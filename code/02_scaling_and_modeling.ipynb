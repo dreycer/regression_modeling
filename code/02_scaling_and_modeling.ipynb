{
 "cells": [
  {
   "cell_type": "markdown",
   "id": "a6296e6f",
   "metadata": {},
   "source": [
    "# Kaggle Competition: Ames Housing Dataset \n",
    "# Notebook 2: Danielle Reycer\n",
    "\n",
    "## Scaling And Modeling\n",
    "\n",
    "- [Imports and Reading in DataSets](#Imports-and-Reading-in-DataSets) <br>\n",
    "- [Cleaning to Use Only Numeric Data](#Cleaning-to-Use-Only-Numeric-Data) <br>\n",
    "- [Setting Up Data for Modeling](#Setting-Up-Data-for-Modeling)\n",
    "- [Creating Baseline Model](#Creating-Baseline-Model)\n",
    "- [Linear Regression on Numerical Columns](#Linear-Regression-on-Numerical-Columns) <br>\n",
    "- [LassoCV on Numeric Columns](#LassoCV-on-Numeric-Columns)\n",
    "- [RidgeCV on Numeric Columns](#RidgeCV-on-Numeric-Columns)"
   ]
  },
  {
   "cell_type": "markdown",
   "id": "ef00a053",
   "metadata": {},
   "source": [
    "### Imports and Reading in DataSets"
   ]
  },
  {
   "cell_type": "code",
   "execution_count": 1,
   "id": "9bee0f87",
   "metadata": {},
   "outputs": [],
   "source": [
    "import numpy as np\n",
    "import pandas as pd\n",
    "import matplotlib.pyplot as plt\n",
    "import seaborn as sns\n",
    "from statistics import mean, stdev\n",
    "\n",
    "from sklearn.linear_model import LassoCV, RidgeCV, LinearRegression\n",
    "from sklearn.preprocessing import StandardScaler\n",
    "from sklearn.metrics import mean_squared_error\n",
    "from sklearn.model_selection import (cross_val_score, \n",
    "                                     train_test_split, \n",
    "                                     cross_validate, \n",
    "                                     KFold)"
   ]
  },
  {
   "cell_type": "code",
   "execution_count": 2,
   "id": "6141b0dc",
   "metadata": {},
   "outputs": [],
   "source": [
    "train = pd.read_csv('../datasets/train_clean1.csv')\n",
    "test = pd.read_csv('../datasets/test_clean1.csv')"
   ]
  },
  {
   "cell_type": "code",
   "execution_count": 3,
   "id": "2b9fc5bf",
   "metadata": {},
   "outputs": [
    {
     "data": {
      "text/html": [
       "<div>\n",
       "<style scoped>\n",
       "    .dataframe tbody tr th:only-of-type {\n",
       "        vertical-align: middle;\n",
       "    }\n",
       "\n",
       "    .dataframe tbody tr th {\n",
       "        vertical-align: top;\n",
       "    }\n",
       "\n",
       "    .dataframe thead th {\n",
       "        text-align: right;\n",
       "    }\n",
       "</style>\n",
       "<table border=\"1\" class=\"dataframe\">\n",
       "  <thead>\n",
       "    <tr style=\"text-align: right;\">\n",
       "      <th></th>\n",
       "      <th>id</th>\n",
       "      <th>pid</th>\n",
       "      <th>ms_subclass</th>\n",
       "      <th>ms_zoning</th>\n",
       "      <th>lot_frontage</th>\n",
       "      <th>lot_area</th>\n",
       "      <th>street</th>\n",
       "      <th>alley</th>\n",
       "      <th>lot_shape</th>\n",
       "      <th>land_contour</th>\n",
       "      <th>...</th>\n",
       "      <th>misc_feature</th>\n",
       "      <th>misc_val</th>\n",
       "      <th>mo_sold</th>\n",
       "      <th>yr_sold</th>\n",
       "      <th>sale_type</th>\n",
       "      <th>saleprice</th>\n",
       "      <th>all_baths</th>\n",
       "      <th>huge_lot</th>\n",
       "      <th>recession</th>\n",
       "      <th>neighborhood_scl</th>\n",
       "    </tr>\n",
       "  </thead>\n",
       "  <tbody>\n",
       "    <tr>\n",
       "      <th>0</th>\n",
       "      <td>109</td>\n",
       "      <td>533352170</td>\n",
       "      <td>60</td>\n",
       "      <td>RL</td>\n",
       "      <td>NaN</td>\n",
       "      <td>13517</td>\n",
       "      <td>Pave</td>\n",
       "      <td>NaN</td>\n",
       "      <td>IR1</td>\n",
       "      <td>Lvl</td>\n",
       "      <td>...</td>\n",
       "      <td>NaN</td>\n",
       "      <td>0</td>\n",
       "      <td>3</td>\n",
       "      <td>2010</td>\n",
       "      <td>WD</td>\n",
       "      <td>130500</td>\n",
       "      <td>3.0</td>\n",
       "      <td>0</td>\n",
       "      <td>0</td>\n",
       "      <td>1.371819</td>\n",
       "    </tr>\n",
       "    <tr>\n",
       "      <th>1</th>\n",
       "      <td>544</td>\n",
       "      <td>531379050</td>\n",
       "      <td>60</td>\n",
       "      <td>RL</td>\n",
       "      <td>43.0</td>\n",
       "      <td>11492</td>\n",
       "      <td>Pave</td>\n",
       "      <td>NaN</td>\n",
       "      <td>IR1</td>\n",
       "      <td>Lvl</td>\n",
       "      <td>...</td>\n",
       "      <td>NaN</td>\n",
       "      <td>0</td>\n",
       "      <td>4</td>\n",
       "      <td>2009</td>\n",
       "      <td>WD</td>\n",
       "      <td>220000</td>\n",
       "      <td>4.0</td>\n",
       "      <td>0</td>\n",
       "      <td>0</td>\n",
       "      <td>1.877602</td>\n",
       "    </tr>\n",
       "    <tr>\n",
       "      <th>2</th>\n",
       "      <td>153</td>\n",
       "      <td>535304180</td>\n",
       "      <td>20</td>\n",
       "      <td>RL</td>\n",
       "      <td>68.0</td>\n",
       "      <td>7922</td>\n",
       "      <td>Pave</td>\n",
       "      <td>NaN</td>\n",
       "      <td>Reg</td>\n",
       "      <td>Lvl</td>\n",
       "      <td>...</td>\n",
       "      <td>NaN</td>\n",
       "      <td>0</td>\n",
       "      <td>1</td>\n",
       "      <td>2010</td>\n",
       "      <td>WD</td>\n",
       "      <td>109000</td>\n",
       "      <td>2.0</td>\n",
       "      <td>0</td>\n",
       "      <td>0</td>\n",
       "      <td>1.459058</td>\n",
       "    </tr>\n",
       "    <tr>\n",
       "      <th>3</th>\n",
       "      <td>318</td>\n",
       "      <td>916386060</td>\n",
       "      <td>60</td>\n",
       "      <td>RL</td>\n",
       "      <td>73.0</td>\n",
       "      <td>9802</td>\n",
       "      <td>Pave</td>\n",
       "      <td>NaN</td>\n",
       "      <td>Reg</td>\n",
       "      <td>Lvl</td>\n",
       "      <td>...</td>\n",
       "      <td>NaN</td>\n",
       "      <td>0</td>\n",
       "      <td>4</td>\n",
       "      <td>2010</td>\n",
       "      <td>WD</td>\n",
       "      <td>174000</td>\n",
       "      <td>3.0</td>\n",
       "      <td>0</td>\n",
       "      <td>0</td>\n",
       "      <td>2.410514</td>\n",
       "    </tr>\n",
       "    <tr>\n",
       "      <th>4</th>\n",
       "      <td>255</td>\n",
       "      <td>906425045</td>\n",
       "      <td>50</td>\n",
       "      <td>RL</td>\n",
       "      <td>82.0</td>\n",
       "      <td>14235</td>\n",
       "      <td>Pave</td>\n",
       "      <td>NaN</td>\n",
       "      <td>IR1</td>\n",
       "      <td>Lvl</td>\n",
       "      <td>...</td>\n",
       "      <td>NaN</td>\n",
       "      <td>0</td>\n",
       "      <td>3</td>\n",
       "      <td>2010</td>\n",
       "      <td>WD</td>\n",
       "      <td>138500</td>\n",
       "      <td>2.0</td>\n",
       "      <td>0</td>\n",
       "      <td>0</td>\n",
       "      <td>1.877602</td>\n",
       "    </tr>\n",
       "  </tbody>\n",
       "</table>\n",
       "<p>5 rows × 85 columns</p>\n",
       "</div>"
      ],
      "text/plain": [
       "    id        pid  ms_subclass ms_zoning  lot_frontage  lot_area street alley  \\\n",
       "0  109  533352170           60        RL           NaN     13517   Pave   NaN   \n",
       "1  544  531379050           60        RL          43.0     11492   Pave   NaN   \n",
       "2  153  535304180           20        RL          68.0      7922   Pave   NaN   \n",
       "3  318  916386060           60        RL          73.0      9802   Pave   NaN   \n",
       "4  255  906425045           50        RL          82.0     14235   Pave   NaN   \n",
       "\n",
       "  lot_shape land_contour  ... misc_feature misc_val mo_sold yr_sold sale_type  \\\n",
       "0       IR1          Lvl  ...          NaN        0       3    2010       WD    \n",
       "1       IR1          Lvl  ...          NaN        0       4    2009       WD    \n",
       "2       Reg          Lvl  ...          NaN        0       1    2010       WD    \n",
       "3       Reg          Lvl  ...          NaN        0       4    2010       WD    \n",
       "4       IR1          Lvl  ...          NaN        0       3    2010       WD    \n",
       "\n",
       "  saleprice all_baths huge_lot  recession  neighborhood_scl  \n",
       "0    130500       3.0        0          0          1.371819  \n",
       "1    220000       4.0        0          0          1.877602  \n",
       "2    109000       2.0        0          0          1.459058  \n",
       "3    174000       3.0        0          0          2.410514  \n",
       "4    138500       2.0        0          0          1.877602  \n",
       "\n",
       "[5 rows x 85 columns]"
      ]
     },
     "execution_count": 3,
     "metadata": {},
     "output_type": "execute_result"
    }
   ],
   "source": [
    "train.head()"
   ]
  },
  {
   "cell_type": "markdown",
   "id": "dca67b12",
   "metadata": {},
   "source": [
    "### Cleaning to Use Only Numeric Data"
   ]
  },
  {
   "cell_type": "markdown",
   "id": "19ef8018",
   "metadata": {},
   "source": [
    "In order to be able to run models - before worrying too much about columns that may need to be dummied and other categorical columns, I decided to run my regression models on all the numeric data first. I created a copy of the dataframe and worked with that in order to move forward with these models, understanding that any cleaning I do here will not transfer over to the original dataframe."
   ]
  },
  {
   "cell_type": "code",
   "execution_count": 4,
   "id": "f98e5067",
   "metadata": {},
   "outputs": [],
   "source": [
    "numeric_train = train.select_dtypes(include = np.number).copy()\n",
    "numeric_test = test.select_dtypes(include = np.number).copy()"
   ]
  },
  {
   "cell_type": "markdown",
   "id": "a2aea9b5",
   "metadata": {},
   "source": [
    "Determining which columns have null values and how many."
   ]
  },
  {
   "cell_type": "code",
   "execution_count": 5,
   "id": "93b48a21",
   "metadata": {},
   "outputs": [
    {
     "data": {
      "text/plain": [
       "lot_frontage      330\n",
       "garage_yr_blt     113\n",
       "mas_vnr_area       22\n",
       "all_baths           1\n",
       "bsmt_half_bath      1\n",
       "dtype: int64"
      ]
     },
     "execution_count": 5,
     "metadata": {},
     "output_type": "execute_result"
    }
   ],
   "source": [
    "numeric_train.isnull().sum().sort_values(ascending=False).head(5)"
   ]
  },
  {
   "cell_type": "code",
   "execution_count": 6,
   "id": "6ef465a7",
   "metadata": {},
   "outputs": [
    {
     "data": {
      "text/plain": [
       "lot_frontage     160\n",
       "garage_yr_blt     45\n",
       "mas_vnr_area       1\n",
       "id                 0\n",
       "3ssn_porch         0\n",
       "dtype: int64"
      ]
     },
     "execution_count": 6,
     "metadata": {},
     "output_type": "execute_result"
    }
   ],
   "source": [
    "numeric_test.isnull().sum().sort_values(ascending=False).head(5)"
   ]
  },
  {
   "cell_type": "markdown",
   "id": "555132c4",
   "metadata": {},
   "source": [
    "I attempted to impute `'lot_frontage'` using `KNNImputer`, but it did not improve my model, so I commented it out here. "
   ]
  },
  {
   "cell_type": "code",
   "execution_count": 7,
   "id": "96990197",
   "metadata": {},
   "outputs": [],
   "source": [
    "# look at homes with blank lot_frontage to see if I can impute with \n",
    "# something better than the mean - trying KNNImputer\n",
    "# https://medium.com/@kyawsawhtoon/a-guide-to-knn-imputation-95e2dc496e\n",
    "\n",
    "# from sklearn.impute import KNNImputer\n",
    "\n",
    "# imputer = KNNImputer(n_neighbors=5)\n",
    "\n",
    "# numeric_train_imputed = pd.DataFrame(imputer.fit_transform(numeric_train),columns = numeric_train.columns)\n",
    "# numeric_test_imputed = pd.DataFrame(imputer.fit_transform(numeric_test), columns = numeric_test.columns)\n"
   ]
  },
  {
   "cell_type": "markdown",
   "id": "63b7fc1f",
   "metadata": {},
   "source": [
    "I decided to impute the two nulls with the mean for those columns, since imputing one null value would introduce less bias that imputing a mean on several null values in a single column. "
   ]
  },
  {
   "cell_type": "code",
   "execution_count": 8,
   "id": "b355f46a",
   "metadata": {},
   "outputs": [],
   "source": [
    "numeric_train['bsmt_half_bath'].fillna((numeric_train['bsmt_half_bath'].mean()), inplace=True)\n",
    "numeric_train['bsmt_full_bath'].fillna((numeric_train['bsmt_full_bath'].mean()), inplace=True)\n"
   ]
  },
  {
   "cell_type": "code",
   "execution_count": 9,
   "id": "ca73c279",
   "metadata": {},
   "outputs": [
    {
     "data": {
      "text/plain": [
       "lot_frontage     330\n",
       "garage_yr_blt    113\n",
       "mas_vnr_area      22\n",
       "all_baths          1\n",
       "id                 0\n",
       "dtype: int64"
      ]
     },
     "execution_count": 9,
     "metadata": {},
     "output_type": "execute_result"
    }
   ],
   "source": [
    "# verifying that the null values were indeed imputed.\n",
    "numeric_train.isnull().sum().sort_values(ascending=False).head(5)"
   ]
  },
  {
   "cell_type": "markdown",
   "id": "17f7e05d",
   "metadata": {},
   "source": [
    "Since the columns of `lot_frontage` and `garage_yr_blt` contained many more nulls, it felt better to not consider those columns as helpful in my model. Therefore, I drop them here."
   ]
  },
  {
   "cell_type": "code",
   "execution_count": 10,
   "id": "3e2434de",
   "metadata": {},
   "outputs": [],
   "source": [
    "numeric_train.dropna(axis=1, inplace=True) "
   ]
  },
  {
   "cell_type": "code",
   "execution_count": 11,
   "id": "4ecde20a",
   "metadata": {},
   "outputs": [
    {
     "data": {
      "text/plain": [
       "lot_frontage     160\n",
       "garage_yr_blt     45\n",
       "mas_vnr_area       1\n",
       "id                 0\n",
       "3ssn_porch         0\n",
       "dtype: int64"
      ]
     },
     "execution_count": 11,
     "metadata": {},
     "output_type": "execute_result"
    }
   ],
   "source": [
    "numeric_test.isnull().sum().sort_values(ascending=False).head(5)"
   ]
  },
  {
   "cell_type": "code",
   "execution_count": 12,
   "id": "334bdc7d",
   "metadata": {},
   "outputs": [],
   "source": [
    "numeric_test.dropna(axis=1, inplace=True)"
   ]
  },
  {
   "cell_type": "code",
   "execution_count": 13,
   "id": "a63335ae",
   "metadata": {},
   "outputs": [
    {
     "data": {
      "text/plain": [
       "id               0\n",
       "pid              0\n",
       "kitchen_abvgr    0\n",
       "totrms_abvgrd    0\n",
       "fireplaces       0\n",
       "dtype: int64"
      ]
     },
     "execution_count": 13,
     "metadata": {},
     "output_type": "execute_result"
    }
   ],
   "source": [
    "# verifying that the null columns were dropped.\n",
    "numeric_test.isnull().sum().sort_values(ascending=False).head(5)"
   ]
  },
  {
   "cell_type": "markdown",
   "id": "785ddf15",
   "metadata": {},
   "source": [
    "### Setting Up Data for Modeling"
   ]
  },
  {
   "cell_type": "markdown",
   "id": "c056312d",
   "metadata": {},
   "source": [
    "Creating features matrix, target vector, and `train_test_split` on the data to use in MLR, LassoCV and RidgeCV."
   ]
  },
  {
   "cell_type": "code",
   "execution_count": 31,
   "id": "e540ccaf",
   "metadata": {},
   "outputs": [
    {
     "data": {
      "text/plain": [
       "(2049, 39)"
      ]
     },
     "execution_count": 31,
     "metadata": {},
     "output_type": "execute_result"
    }
   ],
   "source": [
    "# basic linear regression on all the numeric columns\n",
    "target = 'saleprice'\n",
    "features = [column for column in numeric_train.columns if column != target]\n",
    "\n",
    "X = numeric_train[features]\n",
    "y = numeric_train[target]\n",
    "\n",
    "\n",
    "#train_test_split\n",
    "X_train, X_val, y_train, y_val = train_test_split(X, y, \n",
    "                                                  test_size=0.2, \n",
    "                                                  random_state = 42)\n",
    "\n",
    "# function to determine rmse based on my model\n",
    "def find_rmse(model):\n",
    "    y_true = y_val\n",
    "    if model == LinearRegression:\n",
    "        y_pred = lr.predict(X_val)\n",
    "    elif model == LassoCV:\n",
    "        y_pred = lasso_cv.predict(X_val_sc)\n",
    "    elif model == RidgeCV:\n",
    "        y_pred = ridge_cv.predict(X_val_sc)\n",
    "    else:\n",
    "        return \"Cannot compute\"\n",
    "    return np.sqrt(mean_squared_error(y_true, y_pred))\n",
    "\n",
    "X.shape"
   ]
  },
  {
   "cell_type": "markdown",
   "id": "437e9a6e",
   "metadata": {},
   "source": [
    "### Creating Baseline Model"
   ]
  },
  {
   "cell_type": "code",
   "execution_count": 33,
   "id": "2334cb40",
   "metadata": {},
   "outputs": [
    {
     "data": {
      "text/plain": [
       "(181534.626159102, 79242.76900782275)"
      ]
     },
     "execution_count": 33,
     "metadata": {},
     "output_type": "execute_result"
    }
   ],
   "source": [
    "train['baseline'] = train['saleprice'].mean()\n",
    "y_baseline = train['baseline']\n",
    "y_baseline[0], np.sqrt(mean_squared_error(train['saleprice'], y_baseline))"
   ]
  },
  {
   "cell_type": "markdown",
   "id": "8babfcad",
   "metadata": {},
   "source": [
    "Our baseline model is the mean value of the sale price for our training data. This gives us a null model on which to improve. The rmse for my baseline was much higher than any of my initial models in notebook 1. \n",
    "\n",
    "The average distance between the predicted values and the actual values for sale price in the baseline model are about $79,242. \n",
    "\n",
    "As can be seen in the residual plot below, the residuals are right skewed just like the original sale price data. "
   ]
  },
  {
   "cell_type": "code",
   "execution_count": 37,
   "id": "cbca56a3",
   "metadata": {},
   "outputs": [
    {
     "data": {
      "image/png": "[encoded data removed]",
      "text/plain": [
       "<Figure size 432x288 with 1 Axes>"
      ]
     },
     "metadata": {
      "needs_background": "light"
     },
     "output_type": "display_data"
    }
   ],
   "source": [
    "residuals = train['saleprice'] - train['baseline']\n",
    "plt.hist(residuals)\n",
    "plt.xlabel('residuals');\n",
    "\n",
    "# we expect this to have the exact same shape as the histogram \n",
    "# of sale price, since this is simply a transformation of that graph"
   ]
  },
  {
   "cell_type": "markdown",
   "id": "e57bd750",
   "metadata": {},
   "source": [
    "### Linear Regression on Numerical Columns"
   ]
  },
  {
   "cell_type": "code",
   "execution_count": 16,
   "id": "91ab95b3",
   "metadata": {},
   "outputs": [
    {
     "data": {
      "text/plain": [
       "(0.8688965297218958, 0.8502801614870175)"
      ]
     },
     "execution_count": 16,
     "metadata": {},
     "output_type": "execute_result"
    }
   ],
   "source": [
    "lr = LinearRegression(n_jobs= -1)\n",
    "lr.fit(X_train, y_train)\n",
    "\n",
    "scores = cross_val_score(lr, X_val, y_val)\n",
    "lr.score(X_val, y_val), scores.mean()"
   ]
  },
  {
   "cell_type": "markdown",
   "id": "a322d2e1",
   "metadata": {},
   "source": [
    "My model here isn't as overfit as the previous iterations in Notebook 1"
   ]
  },
  {
   "cell_type": "code",
   "execution_count": 17,
   "id": "9cfb1aa8",
   "metadata": {},
   "outputs": [
    {
     "data": {
      "text/plain": [
       "28047.990519281153"
      ]
     },
     "execution_count": 17,
     "metadata": {},
     "output_type": "execute_result"
    }
   ],
   "source": [
    "# determining rmse\n",
    "find_rmse(LinearRegression)"
   ]
  },
  {
   "cell_type": "markdown",
   "id": "6659033e",
   "metadata": {},
   "source": [
    "The average distance between the predicted values and the actual values for sale price in this linear regression model are about $28,048.\n",
    "\n",
    "Best model of Notebook 1 and Notebook 2"
   ]
  },
  {
   "cell_type": "code",
   "execution_count": 27,
   "id": "f3a8b422",
   "metadata": {},
   "outputs": [
    {
     "data": {
      "text/html": [
       "<div>\n",
       "<style scoped>\n",
       "    .dataframe tbody tr th:only-of-type {\n",
       "        vertical-align: middle;\n",
       "    }\n",
       "\n",
       "    .dataframe tbody tr th {\n",
       "        vertical-align: top;\n",
       "    }\n",
       "\n",
       "    .dataframe thead th {\n",
       "        text-align: right;\n",
       "    }\n",
       "</style>\n",
       "<table border=\"1\" class=\"dataframe\">\n",
       "  <thead>\n",
       "    <tr style=\"text-align: right;\">\n",
       "      <th></th>\n",
       "      <th>train_r2</th>\n",
       "      <th>test_r2</th>\n",
       "      <th>train_rmse</th>\n",
       "      <th>test_rmse</th>\n",
       "    </tr>\n",
       "  </thead>\n",
       "  <tbody>\n",
       "    <tr>\n",
       "      <th>0</th>\n",
       "      <td>0.876333</td>\n",
       "      <td>0.720579</td>\n",
       "      <td>-27985.748812</td>\n",
       "      <td>-41045.695518</td>\n",
       "    </tr>\n",
       "    <tr>\n",
       "      <th>1</th>\n",
       "      <td>0.848196</td>\n",
       "      <td>0.876342</td>\n",
       "      <td>-30479.164657</td>\n",
       "      <td>-29246.171224</td>\n",
       "    </tr>\n",
       "    <tr>\n",
       "      <th>2</th>\n",
       "      <td>0.859835</td>\n",
       "      <td>0.793410</td>\n",
       "      <td>-29930.882893</td>\n",
       "      <td>-34665.173575</td>\n",
       "    </tr>\n",
       "    <tr>\n",
       "      <th>3</th>\n",
       "      <td>0.855588</td>\n",
       "      <td>0.850632</td>\n",
       "      <td>-29752.231964</td>\n",
       "      <td>-32042.030271</td>\n",
       "    </tr>\n",
       "    <tr>\n",
       "      <th>4</th>\n",
       "      <td>0.853366</td>\n",
       "      <td>0.857025</td>\n",
       "      <td>-30682.762573</td>\n",
       "      <td>-28581.023649</td>\n",
       "    </tr>\n",
       "  </tbody>\n",
       "</table>\n",
       "</div>"
      ],
      "text/plain": [
       "   train_r2   test_r2    train_rmse     test_rmse\n",
       "0  0.876333  0.720579 -27985.748812 -41045.695518\n",
       "1  0.848196  0.876342 -30479.164657 -29246.171224\n",
       "2  0.859835  0.793410 -29930.882893 -34665.173575\n",
       "3  0.855588  0.850632 -29752.231964 -32042.030271\n",
       "4  0.853366  0.857025 -30682.762573 -28581.023649"
      ]
     },
     "execution_count": 27,
     "metadata": {},
     "output_type": "execute_result"
    }
   ],
   "source": [
    "cv_results = cross_validate(lr, X, y, cv=KFold(shuffle=True, \n",
    "                                               random_state=13), \n",
    "                            scoring=['neg_root_mean_squared_error', 'r2'], \n",
    "                            n_jobs=-1, return_train_score=True, \n",
    "                            return_estimator=True)\n",
    "\n",
    "results = pd.DataFrame(cv_results)\n",
    "results.rename({'test_neg_root_mean_squared_error': 'test_rmse', \n",
    "                'train_neg_root_mean_squared_error': 'train_rmse'}, \n",
    "                axis=1, inplace=True)\n",
    "results[['train_r2', 'test_r2', \n",
    "         'train_rmse', 'test_rmse']]\n"
   ]
  },
  {
   "cell_type": "code",
   "execution_count": 18,
   "id": "c7f0fb14",
   "metadata": {},
   "outputs": [],
   "source": [
    "# export model to upload to Kaggle\n",
    "X_test = numeric_test[features]\n",
    "\n",
    "numeric_test['SalePrice'] = lr.predict(X_test)\n",
    "\n",
    "test_export = numeric_test[['id', 'SalePrice']].copy()\n",
    "\n",
    "test_export.rename(columns={'id':'Id'}, inplace=True)\n",
    "\n",
    "test_export.to_csv('../attempts/attempt_13.csv', index = False)"
   ]
  },
  {
   "cell_type": "markdown",
   "id": "3772db80",
   "metadata": {},
   "source": [
    "### LassoCV on Numeric Columns"
   ]
  },
  {
   "cell_type": "code",
   "execution_count": 19,
   "id": "e443f4e8",
   "metadata": {},
   "outputs": [],
   "source": [
    "# instantiate and fit standard scaler\n",
    "ss = StandardScaler()\n",
    "ss.fit(X_train)\n",
    "\n",
    "# save the standardized values\n",
    "X_train_sc = ss.transform(X_train)\n",
    "X_val_sc = ss.transform(X_val)\n",
    "\n",
    "# transform test data as well for exported file\n",
    "X_test_sc = ss.transform(numeric_test[features])"
   ]
  },
  {
   "cell_type": "code",
   "execution_count": 20,
   "id": "8f326f67",
   "metadata": {},
   "outputs": [
    {
     "data": {
      "text/plain": [
       "0.8652793555843994"
      ]
     },
     "execution_count": 20,
     "metadata": {},
     "output_type": "execute_result"
    }
   ],
   "source": [
    "# fit Lasso\n",
    "lasso_cv = LassoCV(cv=10)\n",
    "lasso_cv.fit(X_train_sc, y_train)\n",
    "\n",
    "lasso_cv.score(X_val_sc, y_val)"
   ]
  },
  {
   "cell_type": "code",
   "execution_count": 21,
   "id": "08447eed",
   "metadata": {},
   "outputs": [
    {
     "data": {
      "text/plain": [
       "28432.283048577836"
      ]
     },
     "execution_count": 21,
     "metadata": {},
     "output_type": "execute_result"
    }
   ],
   "source": [
    "find_rmse(LassoCV)"
   ]
  },
  {
   "cell_type": "markdown",
   "id": "e9c31a05",
   "metadata": {},
   "source": [
    "The average distance between the predicted values and the actual values for sale price in the Lasso model are about $28,432."
   ]
  },
  {
   "cell_type": "code",
   "execution_count": 29,
   "id": "e0b23828",
   "metadata": {},
   "outputs": [
    {
     "data": {
      "text/html": [
       "<div>\n",
       "<style scoped>\n",
       "    .dataframe tbody tr th:only-of-type {\n",
       "        vertical-align: middle;\n",
       "    }\n",
       "\n",
       "    .dataframe tbody tr th {\n",
       "        vertical-align: top;\n",
       "    }\n",
       "\n",
       "    .dataframe thead th {\n",
       "        text-align: right;\n",
       "    }\n",
       "</style>\n",
       "<table border=\"1\" class=\"dataframe\">\n",
       "  <thead>\n",
       "    <tr style=\"text-align: right;\">\n",
       "      <th></th>\n",
       "      <th>train_r2</th>\n",
       "      <th>test_r2</th>\n",
       "      <th>train_rmse</th>\n",
       "      <th>test_rmse</th>\n",
       "    </tr>\n",
       "  </thead>\n",
       "  <tbody>\n",
       "    <tr>\n",
       "      <th>0</th>\n",
       "      <td>0.842106</td>\n",
       "      <td>0.855612</td>\n",
       "      <td>-31886.375618</td>\n",
       "      <td>-29381.577885</td>\n",
       "    </tr>\n",
       "    <tr>\n",
       "      <th>1</th>\n",
       "      <td>0.865374</td>\n",
       "      <td>0.723698</td>\n",
       "      <td>-29244.602687</td>\n",
       "      <td>-41786.542663</td>\n",
       "    </tr>\n",
       "    <tr>\n",
       "      <th>2</th>\n",
       "      <td>0.843051</td>\n",
       "      <td>0.851791</td>\n",
       "      <td>-32127.147917</td>\n",
       "      <td>-28344.772046</td>\n",
       "    </tr>\n",
       "    <tr>\n",
       "      <th>3</th>\n",
       "      <td>0.846274</td>\n",
       "      <td>0.828580</td>\n",
       "      <td>-30666.067422</td>\n",
       "      <td>-35299.930145</td>\n",
       "    </tr>\n",
       "    <tr>\n",
       "      <th>4</th>\n",
       "      <td>0.846652</td>\n",
       "      <td>0.819600</td>\n",
       "      <td>-30962.049749</td>\n",
       "      <td>-34768.637568</td>\n",
       "    </tr>\n",
       "  </tbody>\n",
       "</table>\n",
       "</div>"
      ],
      "text/plain": [
       "   train_r2   test_r2    train_rmse     test_rmse\n",
       "0  0.842106  0.855612 -31886.375618 -29381.577885\n",
       "1  0.865374  0.723698 -29244.602687 -41786.542663\n",
       "2  0.843051  0.851791 -32127.147917 -28344.772046\n",
       "3  0.846274  0.828580 -30666.067422 -35299.930145\n",
       "4  0.846652  0.819600 -30962.049749 -34768.637568"
      ]
     },
     "execution_count": 29,
     "metadata": {},
     "output_type": "execute_result"
    }
   ],
   "source": [
    "cv_results = cross_validate(lasso_cv, X_train_sc, y_train, cv=KFold(shuffle=True, \n",
    "                                               random_state=13), \n",
    "                            scoring=['neg_root_mean_squared_error', 'r2'], \n",
    "                            n_jobs=-1, return_train_score=True, \n",
    "                            return_estimator=True)\n",
    "\n",
    "results = pd.DataFrame(cv_results)\n",
    "results.rename({'test_neg_root_mean_squared_error': 'test_rmse', \n",
    "                'train_neg_root_mean_squared_error': 'train_rmse'}, \n",
    "                axis=1, inplace=True)\n",
    "results[['train_r2', 'test_r2', \n",
    "         'train_rmse', 'test_rmse']]\n"
   ]
  },
  {
   "cell_type": "code",
   "execution_count": 22,
   "id": "b35e94fc",
   "metadata": {},
   "outputs": [],
   "source": [
    "# viewed these as a starting place for my next notebook\n",
    "# commented out to save scrolling\n",
    "# [(feature, coef) for (feature, coef) in zip(X.columns, lasso_cv.coef_)]"
   ]
  },
  {
   "cell_type": "code",
   "execution_count": 23,
   "id": "ff9715e0",
   "metadata": {},
   "outputs": [],
   "source": [
    "numeric_test['SalePrice'] = lasso_cv.predict(X_test_sc)\n",
    "\n",
    "test_export = numeric_test[['id', 'SalePrice']].copy()\n",
    "\n",
    "test_export.rename(columns={'id':'Id'}, inplace=True)\n",
    "\n",
    "test_export.to_csv('../attempts/attempt_14.csv', index = False)"
   ]
  },
  {
   "cell_type": "markdown",
   "id": "470a9dec",
   "metadata": {},
   "source": [
    "### RidgeCV on Numeric Columns"
   ]
  },
  {
   "cell_type": "code",
   "execution_count": 38,
   "id": "3b37b225",
   "metadata": {},
   "outputs": [
    {
     "data": {
      "text/plain": [
       "(0.8689672711722414, 0.8511834735393304)"
      ]
     },
     "execution_count": 38,
     "metadata": {},
     "output_type": "execute_result"
    }
   ],
   "source": [
    "ridge_cv = RidgeCV()\n",
    "ridge_cv.fit(X_train_sc, y_train)\n",
    "\n",
    "ridge_cv.score(X_val_sc, y_val), ridge_cv.score(X_train_sc, y_train)"
   ]
  },
  {
   "cell_type": "code",
   "execution_count": 25,
   "id": "af2311f8",
   "metadata": {},
   "outputs": [
    {
     "data": {
      "text/plain": [
       "28040.422362421086"
      ]
     },
     "execution_count": 25,
     "metadata": {},
     "output_type": "execute_result"
    }
   ],
   "source": [
    "find_rmse(RidgeCV)"
   ]
  },
  {
   "cell_type": "markdown",
   "id": "a7dddbd7",
   "metadata": {},
   "source": [
    "The average distance between the predicted values and the actual values for sale price in the Ridge model are about $28,040."
   ]
  },
  {
   "cell_type": "code",
   "execution_count": 30,
   "id": "47b90277",
   "metadata": {},
   "outputs": [
    {
     "data": {
      "text/html": [
       "<div>\n",
       "<style scoped>\n",
       "    .dataframe tbody tr th:only-of-type {\n",
       "        vertical-align: middle;\n",
       "    }\n",
       "\n",
       "    .dataframe tbody tr th {\n",
       "        vertical-align: top;\n",
       "    }\n",
       "\n",
       "    .dataframe thead th {\n",
       "        text-align: right;\n",
       "    }\n",
       "</style>\n",
       "<table border=\"1\" class=\"dataframe\">\n",
       "  <thead>\n",
       "    <tr style=\"text-align: right;\">\n",
       "      <th></th>\n",
       "      <th>train_r2</th>\n",
       "      <th>test_r2</th>\n",
       "      <th>train_rmse</th>\n",
       "      <th>test_rmse</th>\n",
       "    </tr>\n",
       "  </thead>\n",
       "  <tbody>\n",
       "    <tr>\n",
       "      <th>0</th>\n",
       "      <td>0.851432</td>\n",
       "      <td>0.840090</td>\n",
       "      <td>-30930.319996</td>\n",
       "      <td>-30920.605384</td>\n",
       "    </tr>\n",
       "    <tr>\n",
       "      <th>1</th>\n",
       "      <td>0.873127</td>\n",
       "      <td>0.688433</td>\n",
       "      <td>-28390.087976</td>\n",
       "      <td>-44373.164586</td>\n",
       "    </tr>\n",
       "    <tr>\n",
       "      <th>2</th>\n",
       "      <td>0.848376</td>\n",
       "      <td>0.856671</td>\n",
       "      <td>-31577.367348</td>\n",
       "      <td>-27874.219931</td>\n",
       "    </tr>\n",
       "    <tr>\n",
       "      <th>3</th>\n",
       "      <td>0.851890</td>\n",
       "      <td>0.839035</td>\n",
       "      <td>-30100.698198</td>\n",
       "      <td>-34206.492161</td>\n",
       "    </tr>\n",
       "    <tr>\n",
       "      <th>4</th>\n",
       "      <td>0.852779</td>\n",
       "      <td>0.797388</td>\n",
       "      <td>-30337.234060</td>\n",
       "      <td>-36846.926877</td>\n",
       "    </tr>\n",
       "  </tbody>\n",
       "</table>\n",
       "</div>"
      ],
      "text/plain": [
       "   train_r2   test_r2    train_rmse     test_rmse\n",
       "0  0.851432  0.840090 -30930.319996 -30920.605384\n",
       "1  0.873127  0.688433 -28390.087976 -44373.164586\n",
       "2  0.848376  0.856671 -31577.367348 -27874.219931\n",
       "3  0.851890  0.839035 -30100.698198 -34206.492161\n",
       "4  0.852779  0.797388 -30337.234060 -36846.926877"
      ]
     },
     "execution_count": 30,
     "metadata": {},
     "output_type": "execute_result"
    }
   ],
   "source": [
    "cv_results = cross_validate(ridge_cv, X_train_sc, y_train, cv=KFold(shuffle=True, \n",
    "                                               random_state=13), \n",
    "                            scoring=['neg_root_mean_squared_error', 'r2'], \n",
    "                            n_jobs=-1, return_train_score=True, \n",
    "                            return_estimator=True)\n",
    "\n",
    "results = pd.DataFrame(cv_results)\n",
    "results.rename({'test_neg_root_mean_squared_error': 'test_rmse', \n",
    "                'train_neg_root_mean_squared_error': 'train_rmse'}, \n",
    "                axis=1, inplace=True)\n",
    "results[['train_r2', 'test_r2', \n",
    "         'train_rmse', 'test_rmse']]\n"
   ]
  },
  {
   "cell_type": "code",
   "execution_count": 26,
   "id": "de01f782",
   "metadata": {},
   "outputs": [],
   "source": [
    "numeric_test['SalePrice'] = ridge_cv.predict(X_test_sc)\n",
    "\n",
    "test_export = numeric_test[['id', 'SalePrice']].copy()\n",
    "\n",
    "test_export.rename(columns={'id':'Id'}, inplace=True)\n",
    "\n",
    "test_export.to_csv('../attempts/attempt_15.csv', index = False)"
   ]
  },
  {
   "cell_type": "markdown",
   "id": "4822be8e",
   "metadata": {},
   "source": [
    "I decided not to export the 'numeric_train' and 'numeric_test' data set, because when I do more exploration, it will be with non numerical features. "
   ]
  },
  {
   "cell_type": "code",
   "execution_count": null,
   "id": "da607b38",
   "metadata": {},
   "outputs": [],
   "source": []
  }
 ],
 "metadata": {
  "kernelspec": {
   "display_name": "Python 3",
   "language": "python",
   "name": "python3"
  },
  "language_info": {
   "codemirror_mode": {
    "name": "ipython",
    "version": 3
   },
   "file_extension": ".py",
   "mimetype": "text/x-python",
   "name": "python",
   "nbconvert_exporter": "python",
   "pygments_lexer": "ipython3",
   "version": "3.8.8"
  }
 },
 "nbformat": 4,
 "nbformat_minor": 5
}
