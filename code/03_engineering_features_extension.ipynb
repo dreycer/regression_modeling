{
 "cells": [
  {
   "cell_type": "markdown",
   "id": "56f16fc6",
   "metadata": {},
   "source": [
    "# Kaggle Competition: Ames Housing Dataset\n",
    "# Notebook 3: Danielle Reycer\n",
    "\n",
    "## Feature Engineering Exploration\n",
    "\n"
   ]
  },
  {
   "cell_type": "code",
   "execution_count": 1,
   "id": "62a77790",
   "metadata": {},
   "outputs": [],
   "source": [
    "import pandas as pd\n",
    "import numpy as np\n",
    "import matplotlib.pyplot as plt\n",
    "import seaborn as sns\n",
    "from statistics import stdev, mean\n",
    "\n",
    "from sklearn.linear_model import LinearRegression, LassoCV, RidgeCV\n",
    "from sklearn.metrics import mean_squared_error\n",
    "from sklearn.preprocessing import StandardScaler\n",
    "from sklearn.model_selection import (cross_val_score, \n",
    "                                     train_test_split, \n",
    "                                     cross_validate, \n",
    "                                     KFold)"
   ]
  },
  {
   "cell_type": "code",
   "execution_count": 2,
   "id": "0a8ca412",
   "metadata": {},
   "outputs": [],
   "source": [
    "train = pd.read_csv('../datasets/train_clean1.csv')\n",
    "test = pd.read_csv('../datasets/test_clean1.csv')"
   ]
  },
  {
   "cell_type": "markdown",
   "id": "8ec5ec77",
   "metadata": {},
   "source": [
    "### Creating Features"
   ]
  },
  {
   "cell_type": "code",
   "execution_count": 3,
   "id": "c047b2be",
   "metadata": {},
   "outputs": [
    {
     "data": {
      "text/plain": [
       "pool_qc          2040\n",
       "misc_feature     1984\n",
       "alley            1909\n",
       "fence            1651\n",
       "fireplace_qu      998\n",
       "lot_frontage      330\n",
       "garage_qual       113\n",
       "garage_finish     113\n",
       "garage_yr_blt     113\n",
       "garage_cond       113\n",
       "garage_type       113\n",
       "dtype: int64"
      ]
     },
     "execution_count": 3,
     "metadata": {},
     "output_type": "execute_result"
    }
   ],
   "source": [
    "train.isnull().sum().sort_values(ascending = False).head(11)"
   ]
  },
  {
   "cell_type": "code",
   "execution_count": 4,
   "id": "48966d40",
   "metadata": {},
   "outputs": [
    {
     "data": {
      "text/plain": [
       "pool_qc          874\n",
       "misc_feature     837\n",
       "alley            820\n",
       "fence            706\n",
       "fireplace_qu     422\n",
       "lot_frontage     160\n",
       "garage_yr_blt     45\n",
       "garage_cond       45\n",
       "garage_finish     45\n",
       "garage_qual       45\n",
       "garage_type       44\n",
       "dtype: int64"
      ]
     },
     "execution_count": 4,
     "metadata": {},
     "output_type": "execute_result"
    }
   ],
   "source": [
    "test.isnull().sum().sort_values(ascending=False).head(11)"
   ]
  },
  {
   "cell_type": "code",
   "execution_count": 5,
   "id": "8d6fc7c0",
   "metadata": {},
   "outputs": [],
   "source": [
    "# dropping some columns that have too many missing values\n",
    "train.drop(['pool_qc', 'misc_feature', 'alley', 'fence', 'fireplace_qu'], axis=1, inplace=True)\n",
    "test.drop(['pool_qc', 'misc_feature', 'alley', 'fence', 'fireplace_qu'], axis=1, inplace=True)"
   ]
  },
  {
   "cell_type": "code",
   "execution_count": 6,
   "id": "4ccf2684",
   "metadata": {},
   "outputs": [
    {
     "data": {
      "text/plain": [
       "lot_frontage      330\n",
       "garage_finish     113\n",
       "garage_cond       113\n",
       "garage_yr_blt     113\n",
       "garage_qual       113\n",
       "garage_type       113\n",
       "bsmt_exposure      57\n",
       "bsmtfin_type_2     55\n",
       "bsmt_cond          54\n",
       "bsmt_qual          54\n",
       "dtype: int64"
      ]
     },
     "execution_count": 6,
     "metadata": {},
     "output_type": "execute_result"
    }
   ],
   "source": [
    "train.isnull().sum().sort_values(ascending=False).head(10)"
   ]
  },
  {
   "cell_type": "code",
   "execution_count": 7,
   "id": "f5c091f3",
   "metadata": {},
   "outputs": [
    {
     "data": {
      "text/plain": [
       "lot_frontage      160\n",
       "garage_yr_blt      45\n",
       "garage_cond        45\n",
       "garage_finish      45\n",
       "garage_qual        45\n",
       "garage_type        44\n",
       "bsmt_qual          25\n",
       "bsmtfin_type_2     25\n",
       "bsmt_cond          25\n",
       "bsmt_exposure      25\n",
       "bsmtfin_type_1     25\n",
       "mas_vnr_type        1\n",
       "electrical          1\n",
       "mas_vnr_area        1\n",
       "kitchen_abvgr       0\n",
       "bedroom_abvgr       0\n",
       "half_bath           0\n",
       "full_bath           0\n",
       "kitchen_qual        0\n",
       "bsmt_full_bath      0\n",
       "dtype: int64"
      ]
     },
     "execution_count": 7,
     "metadata": {},
     "output_type": "execute_result"
    }
   ],
   "source": [
    "test.isnull().sum().sort_values(ascending=False).head(20)"
   ]
  },
  {
   "cell_type": "markdown",
   "id": "b984d495",
   "metadata": {},
   "source": [
    "Since there are so many lot frontage values in the data, I want to impute them based on something else other than the mean for the entire column. I will group by 'lot_shape' and impute with the mean for that category using a dictionary mapping."
   ]
  },
  {
   "cell_type": "code",
   "execution_count": 8,
   "id": "5b573f83",
   "metadata": {},
   "outputs": [
    {
     "data": {
      "text/plain": [
       "lot_shape\n",
       "IR1    11478.713459\n",
       "IR2    19995.454545\n",
       "IR3    21102.222222\n",
       "Reg     8815.518547\n",
       "Name: lot_area, dtype: float64"
      ]
     },
     "execution_count": 8,
     "metadata": {},
     "output_type": "execute_result"
    }
   ],
   "source": [
    "shape_means = train.groupby('lot_shape')['lot_area'].mean()\n",
    "shape_means"
   ]
  },
  {
   "cell_type": "code",
   "execution_count": 9,
   "id": "6f8a89f4",
   "metadata": {},
   "outputs": [
    {
     "data": {
      "text/plain": [
       "array(['IR1', 'IR2', 'IR3', 'Reg'], dtype=object)"
      ]
     },
     "execution_count": 9,
     "metadata": {},
     "output_type": "execute_result"
    }
   ],
   "source": [
    "shape_list = train.lot_shape.unique()\n",
    "shape_list.sort()\n",
    "shape_list"
   ]
  },
  {
   "cell_type": "code",
   "execution_count": 10,
   "id": "85224336",
   "metadata": {},
   "outputs": [
    {
     "name": "stdout",
     "output_type": "stream",
     "text": [
      "{'IR1': 11478.713458755426, 'IR2': 19995.454545454544, 'IR3': 21102.222222222223, 'Reg': 8815.51854714065}\n"
     ]
    }
   ],
   "source": [
    "lot_dict = {shape: mean for shape, mean in zip(shape_list, shape_means)}\n",
    "print(lot_dict)"
   ]
  },
  {
   "cell_type": "code",
   "execution_count": 11,
   "id": "f0dbfb26",
   "metadata": {},
   "outputs": [],
   "source": [
    "train['lot_frontage'] = train['lot_frontage'].fillna(train['lot_shape'].apply(lambda x: lot_dict.get(x)))\n",
    "test['lot_frontage'] = test['lot_frontage'].fillna(test['lot_shape'].apply(lambda x: lot_dict.get(x)))"
   ]
  },
  {
   "cell_type": "code",
   "execution_count": 12,
   "id": "020d3199",
   "metadata": {},
   "outputs": [
    {
     "data": {
      "text/plain": [
       "garage_yr_blt      45\n",
       "garage_cond        45\n",
       "garage_finish      45\n",
       "garage_qual        45\n",
       "garage_type        44\n",
       "bsmtfin_type_2     25\n",
       "bsmtfin_type_1     25\n",
       "bsmt_exposure      25\n",
       "bsmt_cond          25\n",
       "bsmt_qual          25\n",
       "mas_vnr_area        1\n",
       "mas_vnr_type        1\n",
       "electrical          1\n",
       "open_porch_sf       0\n",
       "wood_deck_sf        0\n",
       "low_qual_fin_sf     0\n",
       "gr_liv_area         0\n",
       "bsmt_full_bath      0\n",
       "bsmt_half_bath      0\n",
       "full_bath           0\n",
       "dtype: int64"
      ]
     },
     "execution_count": 12,
     "metadata": {},
     "output_type": "execute_result"
    }
   ],
   "source": [
    "# train.head(10)\n",
    "\n",
    "test.isnull().sum().sort_values(ascending=False).head(20)"
   ]
  },
  {
   "cell_type": "code",
   "execution_count": 13,
   "id": "f3362a76",
   "metadata": {},
   "outputs": [],
   "source": [
    "# three_stdvs = mean(train['saleprice']) + (3 * stdev(train['saleprice']))\n",
    "# train[train['saleprice'] > three_stdvs]"
   ]
  },
  {
   "cell_type": "markdown",
   "id": "eb35c98e",
   "metadata": {},
   "source": [
    "dropping these outliers to try and improve my model"
   ]
  },
  {
   "cell_type": "code",
   "execution_count": 14,
   "id": "c3fadcf9",
   "metadata": {},
   "outputs": [
    {
     "data": {
      "text/plain": [
       "(2049, 80)"
      ]
     },
     "execution_count": 14,
     "metadata": {},
     "output_type": "execute_result"
    }
   ],
   "source": [
    "train.shape"
   ]
  },
  {
   "cell_type": "code",
   "execution_count": 15,
   "id": "685675c9",
   "metadata": {},
   "outputs": [],
   "source": [
    "# source: https://www.geeksforgeeks.org/detect-and-remove-the-outliers-using-python/\n",
    "\n",
    "# upper = np.where(train['saleprice'] >= three_stdvs)\n",
    "# train.drop(upper[0], inplace=True)\n",
    "# train.shape"
   ]
  },
  {
   "cell_type": "code",
   "execution_count": 16,
   "id": "9258dce1",
   "metadata": {},
   "outputs": [],
   "source": [
    "# train.isnull().sum().sort_values(ascending=False).head(20)"
   ]
  },
  {
   "cell_type": "code",
   "execution_count": 17,
   "id": "5a63e6fb",
   "metadata": {},
   "outputs": [
    {
     "data": {
      "text/html": [
       "<div>\n",
       "<style scoped>\n",
       "    .dataframe tbody tr th:only-of-type {\n",
       "        vertical-align: middle;\n",
       "    }\n",
       "\n",
       "    .dataframe tbody tr th {\n",
       "        vertical-align: top;\n",
       "    }\n",
       "\n",
       "    .dataframe thead th {\n",
       "        text-align: right;\n",
       "    }\n",
       "</style>\n",
       "<table border=\"1\" class=\"dataframe\">\n",
       "  <thead>\n",
       "    <tr style=\"text-align: right;\">\n",
       "      <th></th>\n",
       "      <th>id</th>\n",
       "      <th>pid</th>\n",
       "      <th>ms_subclass</th>\n",
       "      <th>ms_zoning</th>\n",
       "      <th>lot_frontage</th>\n",
       "      <th>lot_area</th>\n",
       "      <th>street</th>\n",
       "      <th>lot_shape</th>\n",
       "      <th>land_contour</th>\n",
       "      <th>utilities</th>\n",
       "      <th>...</th>\n",
       "      <th>pool_area</th>\n",
       "      <th>misc_val</th>\n",
       "      <th>mo_sold</th>\n",
       "      <th>yr_sold</th>\n",
       "      <th>sale_type</th>\n",
       "      <th>saleprice</th>\n",
       "      <th>all_baths</th>\n",
       "      <th>huge_lot</th>\n",
       "      <th>recession</th>\n",
       "      <th>neighborhood_scl</th>\n",
       "    </tr>\n",
       "  </thead>\n",
       "  <tbody>\n",
       "    <tr>\n",
       "      <th>616</th>\n",
       "      <td>1498</td>\n",
       "      <td>908154080</td>\n",
       "      <td>20</td>\n",
       "      <td>RL</td>\n",
       "      <td>123.0</td>\n",
       "      <td>47007</td>\n",
       "      <td>Pave</td>\n",
       "      <td>IR1</td>\n",
       "      <td>Lvl</td>\n",
       "      <td>AllPub</td>\n",
       "      <td>...</td>\n",
       "      <td>0</td>\n",
       "      <td>0</td>\n",
       "      <td>7</td>\n",
       "      <td>2008</td>\n",
       "      <td>WD</td>\n",
       "      <td>284700</td>\n",
       "      <td>NaN</td>\n",
       "      <td>1</td>\n",
       "      <td>1</td>\n",
       "      <td>1.304935</td>\n",
       "    </tr>\n",
       "  </tbody>\n",
       "</table>\n",
       "<p>1 rows × 80 columns</p>\n",
       "</div>"
      ],
      "text/plain": [
       "       id        pid  ms_subclass ms_zoning  lot_frontage  lot_area street  \\\n",
       "616  1498  908154080           20        RL         123.0     47007   Pave   \n",
       "\n",
       "    lot_shape land_contour utilities  ... pool_area misc_val mo_sold yr_sold  \\\n",
       "616       IR1          Lvl    AllPub  ...         0        0       7    2008   \n",
       "\n",
       "    sale_type saleprice all_baths  huge_lot  recession  neighborhood_scl  \n",
       "616       WD     284700       NaN         1          1          1.304935  \n",
       "\n",
       "[1 rows x 80 columns]"
      ]
     },
     "execution_count": 17,
     "metadata": {},
     "output_type": "execute_result"
    }
   ],
   "source": [
    "train[train['bsmt_full_bath'].isna()]"
   ]
  },
  {
   "cell_type": "code",
   "execution_count": 18,
   "id": "79ecdc99",
   "metadata": {},
   "outputs": [],
   "source": [
    "train.dropna(subset=['all_baths'], inplace=True)"
   ]
  },
  {
   "cell_type": "code",
   "execution_count": 19,
   "id": "3cf858db",
   "metadata": {},
   "outputs": [
    {
     "data": {
      "text/html": [
       "<div>\n",
       "<style scoped>\n",
       "    .dataframe tbody tr th:only-of-type {\n",
       "        vertical-align: middle;\n",
       "    }\n",
       "\n",
       "    .dataframe tbody tr th {\n",
       "        vertical-align: top;\n",
       "    }\n",
       "\n",
       "    .dataframe thead th {\n",
       "        text-align: right;\n",
       "    }\n",
       "</style>\n",
       "<table border=\"1\" class=\"dataframe\">\n",
       "  <thead>\n",
       "    <tr style=\"text-align: right;\">\n",
       "      <th></th>\n",
       "      <th>id</th>\n",
       "      <th>pid</th>\n",
       "      <th>ms_subclass</th>\n",
       "      <th>ms_zoning</th>\n",
       "      <th>lot_frontage</th>\n",
       "      <th>lot_area</th>\n",
       "      <th>street</th>\n",
       "      <th>lot_shape</th>\n",
       "      <th>land_contour</th>\n",
       "      <th>utilities</th>\n",
       "      <th>...</th>\n",
       "      <th>pool_area</th>\n",
       "      <th>misc_val</th>\n",
       "      <th>mo_sold</th>\n",
       "      <th>yr_sold</th>\n",
       "      <th>sale_type</th>\n",
       "      <th>saleprice</th>\n",
       "      <th>all_baths</th>\n",
       "      <th>huge_lot</th>\n",
       "      <th>recession</th>\n",
       "      <th>neighborhood_scl</th>\n",
       "    </tr>\n",
       "  </thead>\n",
       "  <tbody>\n",
       "  </tbody>\n",
       "</table>\n",
       "<p>0 rows × 80 columns</p>\n",
       "</div>"
      ],
      "text/plain": [
       "Empty DataFrame\n",
       "Columns: [id, pid, ms_subclass, ms_zoning, lot_frontage, lot_area, street, lot_shape, land_contour, utilities, lot_config, land_slope, neighborhood, condition_1, condition_2, bldg_type, house_style, overall_qual, overall_cond, year_built, year_remod/add, roof_style, roof_matl, exterior_1st, exterior_2nd, mas_vnr_type, mas_vnr_area, exter_qual, exter_cond, foundation, bsmt_qual, bsmt_cond, bsmt_exposure, bsmtfin_type_1, bsmtfin_sf_1, bsmtfin_type_2, bsmtfin_sf_2, bsmt_unf_sf, total_bsmt_sf, heating, heating_qc, central_air, electrical, 1st_flr_sf, 2nd_flr_sf, low_qual_fin_sf, gr_liv_area, bsmt_full_bath, bsmt_half_bath, full_bath, half_bath, bedroom_abvgr, kitchen_abvgr, kitchen_qual, totrms_abvgrd, functional, fireplaces, garage_type, garage_yr_blt, garage_finish, garage_cars, garage_area, garage_qual, garage_cond, paved_drive, wood_deck_sf, open_porch_sf, enclosed_porch, 3ssn_porch, screen_porch, pool_area, misc_val, mo_sold, yr_sold, sale_type, saleprice, all_baths, huge_lot, recession, neighborhood_scl]\n",
       "Index: []\n",
       "\n",
       "[0 rows x 80 columns]"
      ]
     },
     "execution_count": 19,
     "metadata": {},
     "output_type": "execute_result"
    }
   ],
   "source": [
    "train[train['bsmt_full_bath'].isna()]"
   ]
  },
  {
   "cell_type": "markdown",
   "id": "a8c8a69b",
   "metadata": {},
   "source": [
    "### Dummying more columns"
   ]
  },
  {
   "cell_type": "code",
   "execution_count": 20,
   "id": "007a9719",
   "metadata": {},
   "outputs": [
    {
     "data": {
      "text/plain": [
       "Lvl    1840\n",
       "HLS      85\n",
       "Bnk      80\n",
       "Low      43\n",
       "Name: land_contour, dtype: int64"
      ]
     },
     "execution_count": 20,
     "metadata": {},
     "output_type": "execute_result"
    }
   ],
   "source": [
    "train['land_contour'].value_counts()"
   ]
  },
  {
   "cell_type": "code",
   "execution_count": 21,
   "id": "3905cc3f",
   "metadata": {},
   "outputs": [
    {
     "data": {
      "text/plain": [
       "0"
      ]
     },
     "execution_count": 21,
     "metadata": {},
     "output_type": "execute_result"
    }
   ],
   "source": [
    "train.land_contour.isnull().sum()"
   ]
  },
  {
   "cell_type": "code",
   "execution_count": 22,
   "id": "4b0810cc",
   "metadata": {},
   "outputs": [
    {
     "data": {
      "text/plain": [
       "Bnk    0\n",
       "HLS    0\n",
       "Low    0\n",
       "Lvl    0\n",
       "dtype: int64"
      ]
     },
     "execution_count": 22,
     "metadata": {},
     "output_type": "execute_result"
    }
   ],
   "source": [
    "lc_dummies = pd.get_dummies(train['land_contour'])\n",
    "lc_dummies_test = pd.get_dummies(test['land_contour'])\n",
    "lc_dummies.isnull().sum()"
   ]
  },
  {
   "cell_type": "code",
   "execution_count": 23,
   "id": "79c91b34",
   "metadata": {},
   "outputs": [],
   "source": [
    "train = pd.concat([train, lc_dummies], axis=1)\n",
    "test = pd.concat([test, lc_dummies_test], axis=1)"
   ]
  },
  {
   "cell_type": "code",
   "execution_count": 24,
   "id": "3f24977d",
   "metadata": {},
   "outputs": [
    {
     "data": {
      "text/plain": [
       "garage_qual       45\n",
       "garage_cond       45\n",
       "garage_yr_blt     45\n",
       "garage_finish     45\n",
       "garage_type       44\n",
       "bsmt_cond         25\n",
       "bsmt_qual         25\n",
       "bsmtfin_type_2    25\n",
       "bsmtfin_type_1    25\n",
       "bsmt_exposure     25\n",
       "mas_vnr_type       1\n",
       "electrical         1\n",
       "mas_vnr_area       1\n",
       "fireplaces         0\n",
       "id                 0\n",
       "totrms_abvgrd      0\n",
       "kitchen_qual       0\n",
       "kitchen_abvgr      0\n",
       "bedroom_abvgr      0\n",
       "half_bath          0\n",
       "dtype: int64"
      ]
     },
     "execution_count": 24,
     "metadata": {},
     "output_type": "execute_result"
    }
   ],
   "source": [
    "test.isnull().sum().sort_values(ascending=False).head(20)"
   ]
  },
  {
   "cell_type": "code",
   "execution_count": 25,
   "id": "cd42d1e2",
   "metadata": {},
   "outputs": [
    {
     "data": {
      "text/plain": [
       "RL         1597\n",
       "RM          314\n",
       "FV          101\n",
       "C (all)      19\n",
       "RH           14\n",
       "A (agr)       2\n",
       "I (all)       1\n",
       "Name: ms_zoning, dtype: int64"
      ]
     },
     "execution_count": 25,
     "metadata": {},
     "output_type": "execute_result"
    }
   ],
   "source": [
    "train.ms_zoning.value_counts()"
   ]
  },
  {
   "cell_type": "code",
   "execution_count": 26,
   "id": "bfebaf5e",
   "metadata": {},
   "outputs": [
    {
     "data": {
      "text/plain": [
       "0"
      ]
     },
     "execution_count": 26,
     "metadata": {},
     "output_type": "execute_result"
    }
   ],
   "source": [
    "train.ms_zoning.isnull().sum()"
   ]
  },
  {
   "cell_type": "code",
   "execution_count": 27,
   "id": "94b416d8",
   "metadata": {},
   "outputs": [],
   "source": [
    "zoning_dummies = pd.get_dummies(train['ms_zoning'])\n",
    "zoning_dummies_test = pd.get_dummies(test['ms_zoning'])\n"
   ]
  },
  {
   "cell_type": "code",
   "execution_count": 28,
   "id": "7921a82a",
   "metadata": {},
   "outputs": [],
   "source": [
    "train = pd.concat([train, zoning_dummies], axis=1)\n",
    "test = pd.concat([test, zoning_dummies_test], axis=1)\n"
   ]
  },
  {
   "cell_type": "code",
   "execution_count": 29,
   "id": "236a4710",
   "metadata": {},
   "outputs": [],
   "source": [
    "train.dropna(subset=['roof_style'], inplace=True)"
   ]
  },
  {
   "cell_type": "code",
   "execution_count": 30,
   "id": "42bcd4e7",
   "metadata": {},
   "outputs": [],
   "source": [
    "roof_dummies = pd.get_dummies(train['roof_style'])\n",
    "roof_dummies_test = pd.get_dummies(test['roof_style'])\n"
   ]
  },
  {
   "cell_type": "code",
   "execution_count": 31,
   "id": "4589d016",
   "metadata": {},
   "outputs": [],
   "source": [
    "train = pd.concat([train, roof_dummies], axis=1)\n",
    "test = pd.concat([test, roof_dummies_test], axis=1)\n"
   ]
  },
  {
   "cell_type": "code",
   "execution_count": 32,
   "id": "3899cb5b",
   "metadata": {},
   "outputs": [],
   "source": [
    "train['overall_qual^2'] = (train['overall_qual']) ** 2\n",
    "test['overall_qual^2'] = (test['overall_qual']) ** 2"
   ]
  },
  {
   "cell_type": "code",
   "execution_count": 33,
   "id": "c45b5284",
   "metadata": {},
   "outputs": [],
   "source": [
    "# creating ordinal values for certain columns\n",
    "# create the dictionary first\n",
    "\n",
    "dict_list = train['heating_qc'].unique().tolist()\n",
    "dict_list.sort()\n",
    "quality_dict = {\n",
    "    'Po': 1, \n",
    "    'Fa': 2, \n",
    "    'TA': 3, \n",
    "    'Gd': 4, \n",
    "    'Ex': 5\n",
    "}"
   ]
  },
  {
   "cell_type": "code",
   "execution_count": 34,
   "id": "6d27a160",
   "metadata": {},
   "outputs": [],
   "source": [
    "# creating new columns using dictionary for train and test data\n",
    "\n",
    "train['kitchen_qual_ord'] = train['kitchen_qual'].apply(lambda x: quality_dict[x])\n",
    "train['heating_qc_ord'] = train['heating_qc'].apply(lambda x: quality_dict[x])\n",
    "train['exter_qual_ord'] = train['exter_qual'].apply(lambda x: quality_dict[x])\n",
    "\n",
    "test['kitchen_qual_ord'] = test['kitchen_qual'].apply(lambda x: quality_dict[x])\n",
    "test['heating_qc_ord'] = test['heating_qc'].apply(lambda x: quality_dict[x])\n",
    "test['exter_qual_ord'] = test['exter_qual'].apply(lambda x: quality_dict[x])"
   ]
  },
  {
   "cell_type": "markdown",
   "id": "858c5ff1",
   "metadata": {},
   "source": [
    "### Modeling"
   ]
  },
  {
   "cell_type": "markdown",
   "id": "bf2a978e",
   "metadata": {},
   "source": [
    "My final interation of these features is below (iterated over several versions). "
   ]
  },
  {
   "cell_type": "code",
   "execution_count": 35,
   "id": "e1ebf323",
   "metadata": {},
   "outputs": [
    {
     "data": {
      "text/plain": [
       "24"
      ]
     },
     "execution_count": 35,
     "metadata": {},
     "output_type": "execute_result"
    }
   ],
   "source": [
    "features = ['ms_subclass', 'lot_area', 'overall_qual^2', 'overall_cond', \n",
    "            'year_built','bsmtfin_sf_1', 'total_bsmt_sf', '1st_flr_sf',  \n",
    "            'gr_liv_area', 'bsmt_full_bath', 'totrms_abvgrd', 'fireplaces', 'garage_cars',\n",
    "            'garage_area', 'wood_deck_sf', 'screen_porch', 'pool_area', 'misc_val',\n",
    "            'neighborhood_scl', 'Bnk', 'HLS', 'kitchen_qual_ord', 'heating_qc_ord', \n",
    "            'exter_qual_ord']\n",
    "\n",
    "len(features)"
   ]
  },
  {
   "cell_type": "code",
   "execution_count": 36,
   "id": "08364040",
   "metadata": {},
   "outputs": [],
   "source": [
    "# setting up train_test_split\n",
    "target = 'saleprice'\n",
    "\n",
    "X = train[features]\n",
    "y = train[target]\n",
    "\n",
    "\n",
    "#train_test_split\n",
    "X_train, X_val, y_train, y_val = train_test_split(X, y, \n",
    "                                                  test_size=0.2, \n",
    "                                                  random_state = 42)\n",
    "\n",
    "# function to determine rmse\n",
    "def find_rmse(model):\n",
    "    y_true = y_val\n",
    "    if model == LinearRegression:\n",
    "        y_pred = lr.predict(X_val)\n",
    "    elif model == LassoCV:\n",
    "        y_pred = lasso_cv.predict(X_val_sc)\n",
    "    elif model == RidgeCV:\n",
    "        y_pred = ridge_cv.predict(X_val_sc)\n",
    "    else:\n",
    "        return \"Cannot compute\"\n",
    "    return np.sqrt(mean_squared_error(y_true, y_pred))"
   ]
  },
  {
   "cell_type": "code",
   "execution_count": 37,
   "id": "f38ced07",
   "metadata": {},
   "outputs": [
    {
     "data": {
      "text/plain": [
       "(0.8808835798771789, 0.8781902584394828, 0.869323472520249)"
      ]
     },
     "execution_count": 37,
     "metadata": {},
     "output_type": "execute_result"
    }
   ],
   "source": [
    "lr = LinearRegression(n_jobs= -1)\n",
    "lr.fit(X_train, y_train)\n",
    "\n",
    "scores = cross_val_score(lr, X_val, y_val)\n",
    "lr.score(X_val, y_val), scores.mean(), lr.score(X_train, y_train)"
   ]
  },
  {
   "cell_type": "code",
   "execution_count": 38,
   "id": "24218167",
   "metadata": {},
   "outputs": [
    {
     "data": {
      "text/plain": [
       "26137.645305440463"
      ]
     },
     "execution_count": 38,
     "metadata": {},
     "output_type": "execute_result"
    }
   ],
   "source": [
    "# determining rmse\n",
    "find_rmse(LinearRegression)"
   ]
  },
  {
   "cell_type": "code",
   "execution_count": 39,
   "id": "848a264a",
   "metadata": {},
   "outputs": [],
   "source": [
    "# export model to upload to Kaggle\n",
    "X_test = test[features]\n",
    "\n",
    "test['SalePrice'] = lr.predict(X_test)\n",
    "\n",
    "export = test[['id', 'SalePrice']].copy()\n",
    "\n",
    "export.rename(columns={'id':'Id'}, inplace=True)\n",
    "\n",
    "export.to_csv('../attempts/attempt_16.csv', index = False)"
   ]
  },
  {
   "cell_type": "code",
   "execution_count": 40,
   "id": "d17eabfc",
   "metadata": {},
   "outputs": [],
   "source": [
    "# instantiate and fit standard scaler\n",
    "ss = StandardScaler()\n",
    "ss.fit(X_train)\n",
    "\n",
    "# save the standardized values\n",
    "X_train_sc = ss.transform(X_train)\n",
    "X_val_sc = ss.transform(X_val)\n",
    "\n",
    "# transform test data as well for exported file\n",
    "X_test_sc = ss.transform(test[features])"
   ]
  },
  {
   "cell_type": "code",
   "execution_count": 41,
   "id": "c7d4524a",
   "metadata": {},
   "outputs": [
    {
     "data": {
      "text/plain": [
       "(0.8801845975076573, 0.8672554059910753)"
      ]
     },
     "execution_count": 41,
     "metadata": {},
     "output_type": "execute_result"
    }
   ],
   "source": [
    "# fit Lasso\n",
    "lasso_cv = LassoCV(cv=10)\n",
    "lasso_cv.fit(X_train_sc, y_train)\n",
    "\n",
    "lasso_cv.score(X_val_sc, y_val), lasso_cv.score(X_train_sc, y_train)"
   ]
  },
  {
   "cell_type": "code",
   "execution_count": 42,
   "id": "035a7066",
   "metadata": {},
   "outputs": [
    {
     "data": {
      "text/plain": [
       "26214.22177397624"
      ]
     },
     "execution_count": 42,
     "metadata": {},
     "output_type": "execute_result"
    }
   ],
   "source": [
    "find_rmse(LassoCV)"
   ]
  },
  {
   "cell_type": "markdown",
   "id": "13064d46",
   "metadata": {},
   "source": [
    "The LassoCV model ended up being the best Kaggle Submission"
   ]
  },
  {
   "cell_type": "code",
   "execution_count": 43,
   "id": "61349124",
   "metadata": {},
   "outputs": [
    {
     "data": {
      "text/plain": [
       "[('ms_subclass', -4700.563749104646),\n",
       " ('lot_area', 2484.3070370524047),\n",
       " ('overall_qual^2', 20123.433762032066),\n",
       " ('overall_cond', 3886.8525764151923),\n",
       " ('year_built', 2886.6612376685325),\n",
       " ('bsmtfin_sf_1', 6178.556891761865),\n",
       " ('total_bsmt_sf', 2475.286656788073),\n",
       " ('1st_flr_sf', 1921.653148091313),\n",
       " ('gr_liv_area', 16597.02677544592),\n",
       " ('bsmt_full_bath', 3325.1041888098953),\n",
       " ('totrms_abvgrd', 3139.1213351057813),\n",
       " ('fireplaces', 2870.1825745678766),\n",
       " ('garage_cars', 2604.1702725805935),\n",
       " ('garage_area', 2838.295093858292),\n",
       " ('wood_deck_sf', 1826.3062136335698),\n",
       " ('screen_porch', 3386.3265611246293),\n",
       " ('pool_area', -2094.8908241964655),\n",
       " ('misc_val', -4596.85741494744),\n",
       " ('neighborhood_scl', 17414.761292816085),\n",
       " ('Bnk', -1233.909099631672),\n",
       " ('HLS', 3230.5908570060806),\n",
       " ('kitchen_qual_ord', 6235.609842324327),\n",
       " ('heating_qc_ord', 772.418949143483),\n",
       " ('exter_qual_ord', 5860.971478334798)]"
      ]
     },
     "execution_count": 43,
     "metadata": {},
     "output_type": "execute_result"
    }
   ],
   "source": [
    "# wanted a list of helpful features just in case I decided to try more things\n",
    "\n",
    "# I ended up using the original list to pare down 'noisy' features\n",
    "[(feature, coef) for (feature, coef) in zip(X.columns, lasso_cv.coef_)]"
   ]
  },
  {
   "cell_type": "code",
   "execution_count": 44,
   "id": "4727428d",
   "metadata": {},
   "outputs": [],
   "source": [
    "test['SalePrice'] = lasso_cv.predict(X_test_sc)\n",
    "\n",
    "export = test[['id', 'SalePrice']].copy()\n",
    "\n",
    "export.rename(columns={'id':'Id'}, inplace=True)\n",
    "\n",
    "export.to_csv('../attempts/attempt_17.csv', index = False)"
   ]
  },
  {
   "cell_type": "code",
   "execution_count": 45,
   "id": "b075b6ba",
   "metadata": {},
   "outputs": [
    {
     "data": {
      "text/plain": [
       "0.8807387919584432"
      ]
     },
     "execution_count": 45,
     "metadata": {},
     "output_type": "execute_result"
    }
   ],
   "source": [
    "# instantiate and fit Ridge\n",
    "ridge_cv = RidgeCV()\n",
    "ridge_cv.fit(X_train_sc, y_train)\n",
    "\n",
    "ridge_cv.score(X_val_sc, y_val)"
   ]
  },
  {
   "cell_type": "code",
   "execution_count": 46,
   "id": "7437ddeb",
   "metadata": {},
   "outputs": [
    {
     "data": {
      "text/plain": [
       "26153.525844641365"
      ]
     },
     "execution_count": 46,
     "metadata": {},
     "output_type": "execute_result"
    }
   ],
   "source": [
    "find_rmse(RidgeCV)"
   ]
  },
  {
   "cell_type": "code",
   "execution_count": 47,
   "id": "60e5e941",
   "metadata": {},
   "outputs": [],
   "source": [
    "test['SalePrice'] = ridge_cv.predict(X_test_sc)\n",
    "\n",
    "export = test[['id', 'SalePrice']].copy()\n",
    "\n",
    "export.rename(columns={'id':'Id'}, inplace=True)\n",
    "\n",
    "export.to_csv('../attempts/attempt_18.csv', index = False)"
   ]
  },
  {
   "cell_type": "markdown",
   "id": "6ec208c5",
   "metadata": {},
   "source": [
    "Since we only have 2051 data points, it would be ideal to drastically reduce the amount of features (my model currently has 24). Following a recommendation from fellow data scientist, Sophie Tabac, each feature requires around 400 data points. This would mean that we would want to limit our model to having around 5 or 6 features. The next section is my exploration of making the best possible model with far fewer features. "
   ]
  },
  {
   "cell_type": "code",
   "execution_count": 48,
   "id": "57c75ba1",
   "metadata": {},
   "outputs": [
    {
     "data": {
      "image/png": "[encoded data removed]",
      "text/plain": [
       "<Figure size 432x720 with 2 Axes>"
      ]
     },
     "metadata": {
      "needs_background": "light"
     },
     "output_type": "display_data"
    }
   ],
   "source": [
    "# started with most recent features list, and included sale price so I could use it to create a heatmap\n",
    "\n",
    "features = ['ms_subclass', 'lot_area', 'overall_qual^2', 'overall_cond', \n",
    "            'year_built','bsmtfin_sf_1', 'total_bsmt_sf', '1st_flr_sf',  \n",
    "            'gr_liv_area', 'bsmt_full_bath', 'totrms_abvgrd', 'fireplaces', 'garage_cars',\n",
    "            'garage_area', 'wood_deck_sf', 'screen_porch', 'pool_area', 'misc_val',\n",
    "            'neighborhood_scl', 'Bnk', 'HLS', 'kitchen_qual_ord', 'heating_qc_ord', \n",
    "            'exter_qual_ord', 'saleprice']\n",
    "\n",
    "newdf = train[features]\n",
    "\n",
    "plt.figure(figsize = (6, 10))\n",
    "sns.heatmap(newdf.corr()[['saleprice']].sort_values('saleprice'), \n",
    "            annot = True, cmap = 'coolwarm', vmin = -1, vmax = 1, linewidths = 0.3);"
   ]
  },
  {
   "cell_type": "code",
   "execution_count": 49,
   "id": "163d2146",
   "metadata": {},
   "outputs": [
    {
     "data": {
      "image/png": "[encoded data removed]",
      "text/plain": [
       "<Figure size 720x720 with 2 Axes>"
      ]
     },
     "metadata": {
      "needs_background": "light"
     },
     "output_type": "display_data"
    }
   ],
   "source": [
    "# cut down features to those with 0.5 correlation or better, \n",
    "# then looking for relationships between the features\n",
    "\n",
    "features = ['overall_qual^2', \n",
    "            'year_built', 'total_bsmt_sf', '1st_flr_sf',  \n",
    "            'gr_liv_area', 'totrms_abvgrd','garage_cars',\n",
    "            'garage_area', 'neighborhood_scl', 'kitchen_qual_ord', \n",
    "            'exter_qual_ord']\n",
    "\n",
    "newdf = train[features]\n",
    "\n",
    "plt.figure(figsize=(10, 10))\n",
    "sns.heatmap(newdf.corr(), \n",
    "            annot = True, \n",
    "            cmap = 'coolwarm', \n",
    "            vmin = -1, vmax = 1, \n",
    "            linewidths = 0.3);"
   ]
  },
  {
   "cell_type": "code",
   "execution_count": 50,
   "id": "56950d91",
   "metadata": {},
   "outputs": [],
   "source": [
    "features = ['overall_qual^2', \n",
    "            'year_built', 'total_bsmt_sf', '1st_flr_sf',  \n",
    "            'gr_liv_area',\n",
    "            'garage_area', 'neighborhood_scl', 'kitchen_qual_ord']"
   ]
  },
  {
   "cell_type": "code",
   "execution_count": 51,
   "id": "b0f19f83",
   "metadata": {},
   "outputs": [],
   "source": [
    "# setting up train_test_split\n",
    "target = 'saleprice'\n",
    "\n",
    "X = train[features]\n",
    "y = train[target]\n",
    "\n",
    "\n",
    "#train_test_split\n",
    "X_train, X_val, y_train, y_val = train_test_split(X, y, \n",
    "                                                  test_size=0.2, \n",
    "                                                  random_state = 42)\n"
   ]
  },
  {
   "cell_type": "code",
   "execution_count": 52,
   "id": "283eb6cc",
   "metadata": {},
   "outputs": [
    {
     "data": {
      "text/plain": [
       "(0.8396729836574462, 0.8462934547878987)"
      ]
     },
     "execution_count": 52,
     "metadata": {},
     "output_type": "execute_result"
    }
   ],
   "source": [
    "lr = LinearRegression(n_jobs= -1)\n",
    "lr.fit(X_train, y_train)\n",
    "\n",
    "scores = cross_val_score(lr, X_val, y_val)\n",
    "lr.score(X_val, y_val), scores.mean()"
   ]
  },
  {
   "cell_type": "code",
   "execution_count": 53,
   "id": "8064a0e3",
   "metadata": {},
   "outputs": [
    {
     "data": {
      "text/plain": [
       "30323.826212968273"
      ]
     },
     "execution_count": 53,
     "metadata": {},
     "output_type": "execute_result"
    }
   ],
   "source": [
    "find_rmse(LinearRegression)"
   ]
  },
  {
   "cell_type": "code",
   "execution_count": 60,
   "id": "e2fb8013",
   "metadata": {},
   "outputs": [
    {
     "data": {
      "text/plain": [
       "[('overall_qual^2', 1196.8055340490816),\n",
       " ('year_built', 51.25194999312665),\n",
       " ('total_bsmt_sf', 15.344559866401898),\n",
       " ('1st_flr_sf', 9.757579195817009),\n",
       " ('gr_liv_area', 37.95594425647616),\n",
       " ('garage_area', 34.61942451364714),\n",
       " ('neighborhood_scl', 34210.62307195563),\n",
       " ('kitchen_qual_ord', 14541.46909385068)]"
      ]
     },
     "execution_count": 60,
     "metadata": {},
     "output_type": "execute_result"
    }
   ],
   "source": [
    "[(feature, coef) for (feature, coef) in zip(features, lr.coef_)]"
   ]
  },
  {
   "cell_type": "code",
   "execution_count": 54,
   "id": "e07ca153",
   "metadata": {},
   "outputs": [],
   "source": [
    "# instantiate and fit standard scaler\n",
    "ss = StandardScaler()\n",
    "ss.fit(X_train)\n",
    "\n",
    "# save the standardized values\n",
    "X_train_sc = ss.transform(X_train)\n",
    "X_val_sc = ss.transform(X_val)\n",
    "\n",
    "# transform test data as well for exported file\n",
    "X_test_sc = ss.transform(test[features])"
   ]
  },
  {
   "cell_type": "code",
   "execution_count": 55,
   "id": "4c99f469",
   "metadata": {},
   "outputs": [
    {
     "data": {
      "text/plain": [
       "(0.8393015811699933, 0.8294157599488876)"
      ]
     },
     "execution_count": 55,
     "metadata": {},
     "output_type": "execute_result"
    }
   ],
   "source": [
    "# fit Lasso\n",
    "lasso_cv = LassoCV(cv=10)\n",
    "lasso_cv.fit(X_train_sc, y_train)\n",
    "\n",
    "lasso_cv.score(X_val_sc, y_val), lasso_cv.score(X_train_sc, y_train)"
   ]
  },
  {
   "cell_type": "code",
   "execution_count": 56,
   "id": "b89a716e",
   "metadata": {},
   "outputs": [
    {
     "data": {
      "text/plain": [
       "30358.928935805798"
      ]
     },
     "execution_count": 56,
     "metadata": {},
     "output_type": "execute_result"
    }
   ],
   "source": [
    "find_rmse(LassoCV)"
   ]
  },
  {
   "cell_type": "code",
   "execution_count": 57,
   "id": "0b9b83ae",
   "metadata": {},
   "outputs": [
    {
     "data": {
      "text/plain": [
       "(0.839793138295182, 0.8294157599488876)"
      ]
     },
     "execution_count": 57,
     "metadata": {},
     "output_type": "execute_result"
    }
   ],
   "source": [
    "# instantiate and fit Ridge\n",
    "ridge_cv = RidgeCV()\n",
    "ridge_cv.fit(X_train_sc, y_train)\n",
    "\n",
    "ridge_cv.score(X_val_sc, y_val), lasso_cv.score(X_train_sc, y_train)"
   ]
  },
  {
   "cell_type": "code",
   "execution_count": 58,
   "id": "76ac2918",
   "metadata": {},
   "outputs": [
    {
     "data": {
      "text/plain": [
       "30312.461218649558"
      ]
     },
     "execution_count": 58,
     "metadata": {},
     "output_type": "execute_result"
    }
   ],
   "source": [
    "find_rmse(RidgeCV)"
   ]
  },
  {
   "cell_type": "code",
   "execution_count": null,
   "id": "16f32316",
   "metadata": {},
   "outputs": [],
   "source": []
  }
 ],
 "metadata": {
  "kernelspec": {
   "display_name": "Python 3",
   "language": "python",
   "name": "python3"
  },
  "language_info": {
   "codemirror_mode": {
    "name": "ipython",
    "version": 3
   },
   "file_extension": ".py",
   "mimetype": "text/x-python",
   "name": "python",
   "nbconvert_exporter": "python",
   "pygments_lexer": "ipython3",
   "version": "3.8.8"
  }
 },
 "nbformat": 4,
 "nbformat_minor": 5
}
