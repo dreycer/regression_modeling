{
 "cells": [
  {
   "cell_type": "markdown",
   "id": "cb57381e",
   "metadata": {},
   "source": [
    "# Kaggle Competition: Ames Housing Dataset\n",
    "# Notebook 1: Danielle Reycer\n",
    "## Cleaning and Modeling Data\n",
    "\n",
    "- [Imports and Reading in DataSets](#Imports-and-Reading-in-DataSets) \n",
    "- [Cleaning and EDA](#Cleaning-and-EDA) \n",
    "- [Considering US Recession](#Considering-US-Recession)\n",
    "- [Accounting for Neighborhood](#Accounting-for-Neighborhood)\n",
    "- [Attempting Polynomial Features](#Attempting-Polynomial-Features)\n",
    "- [Features Iterations](#Features-Iterations-(First-Attempts))\n",
    "- [KFold Cross Validation](#KFold-Cross-Validation)\n",
    "- [Exporting DataSets](#Exporting-DataSets)\n"
   ]
  },
  {
   "cell_type": "markdown",
   "id": "a997eef2",
   "metadata": {},
   "source": [
    "### Imports and Reading in DataSets"
   ]
  },
  {
   "cell_type": "code",
   "execution_count": 2,
   "id": "6f53b40c",
   "metadata": {},
   "outputs": [],
   "source": [
    "import numpy as np\n",
    "import pandas as pd\n",
    "import scipy as stats\n",
    "import matplotlib.pyplot as plt\n",
    "import seaborn as sns\n",
    "\n",
    "from sklearn import metrics\n",
    "from sklearn.linear_model import LinearRegression\n",
    "from sklearn.preprocessing import StandardScaler, PolynomialFeatures\n",
    "from sklearn.model_selection import (cross_val_score, \n",
    "                                     train_test_split, \n",
    "                                     cross_validate, \n",
    "                                     KFold)"
   ]
  },
  {
   "cell_type": "code",
   "execution_count": 3,
   "id": "e9a96329",
   "metadata": {},
   "outputs": [],
   "source": [
    "train = pd.read_csv('../datasets/train.csv')\n",
    "test = pd.read_csv('../datasets/test.csv')"
   ]
  },
  {
   "cell_type": "code",
   "execution_count": 4,
   "id": "143f1d30",
   "metadata": {},
   "outputs": [
    {
     "data": {
      "text/html": [
       "<div>\n",
       "<style scoped>\n",
       "    .dataframe tbody tr th:only-of-type {\n",
       "        vertical-align: middle;\n",
       "    }\n",
       "\n",
       "    .dataframe tbody tr th {\n",
       "        vertical-align: top;\n",
       "    }\n",
       "\n",
       "    .dataframe thead th {\n",
       "        text-align: right;\n",
       "    }\n",
       "</style>\n",
       "<table border=\"1\" class=\"dataframe\">\n",
       "  <thead>\n",
       "    <tr style=\"text-align: right;\">\n",
       "      <th></th>\n",
       "      <th>Id</th>\n",
       "      <th>PID</th>\n",
       "      <th>MS SubClass</th>\n",
       "      <th>MS Zoning</th>\n",
       "      <th>Lot Frontage</th>\n",
       "      <th>Lot Area</th>\n",
       "      <th>Street</th>\n",
       "      <th>Alley</th>\n",
       "      <th>Lot Shape</th>\n",
       "      <th>Land Contour</th>\n",
       "      <th>...</th>\n",
       "      <th>Screen Porch</th>\n",
       "      <th>Pool Area</th>\n",
       "      <th>Pool QC</th>\n",
       "      <th>Fence</th>\n",
       "      <th>Misc Feature</th>\n",
       "      <th>Misc Val</th>\n",
       "      <th>Mo Sold</th>\n",
       "      <th>Yr Sold</th>\n",
       "      <th>Sale Type</th>\n",
       "      <th>SalePrice</th>\n",
       "    </tr>\n",
       "  </thead>\n",
       "  <tbody>\n",
       "    <tr>\n",
       "      <th>0</th>\n",
       "      <td>109</td>\n",
       "      <td>533352170</td>\n",
       "      <td>60</td>\n",
       "      <td>RL</td>\n",
       "      <td>NaN</td>\n",
       "      <td>13517</td>\n",
       "      <td>Pave</td>\n",
       "      <td>NaN</td>\n",
       "      <td>IR1</td>\n",
       "      <td>Lvl</td>\n",
       "      <td>...</td>\n",
       "      <td>0</td>\n",
       "      <td>0</td>\n",
       "      <td>NaN</td>\n",
       "      <td>NaN</td>\n",
       "      <td>NaN</td>\n",
       "      <td>0</td>\n",
       "      <td>3</td>\n",
       "      <td>2010</td>\n",
       "      <td>WD</td>\n",
       "      <td>130500</td>\n",
       "    </tr>\n",
       "    <tr>\n",
       "      <th>1</th>\n",
       "      <td>544</td>\n",
       "      <td>531379050</td>\n",
       "      <td>60</td>\n",
       "      <td>RL</td>\n",
       "      <td>43.0</td>\n",
       "      <td>11492</td>\n",
       "      <td>Pave</td>\n",
       "      <td>NaN</td>\n",
       "      <td>IR1</td>\n",
       "      <td>Lvl</td>\n",
       "      <td>...</td>\n",
       "      <td>0</td>\n",
       "      <td>0</td>\n",
       "      <td>NaN</td>\n",
       "      <td>NaN</td>\n",
       "      <td>NaN</td>\n",
       "      <td>0</td>\n",
       "      <td>4</td>\n",
       "      <td>2009</td>\n",
       "      <td>WD</td>\n",
       "      <td>220000</td>\n",
       "    </tr>\n",
       "    <tr>\n",
       "      <th>2</th>\n",
       "      <td>153</td>\n",
       "      <td>535304180</td>\n",
       "      <td>20</td>\n",
       "      <td>RL</td>\n",
       "      <td>68.0</td>\n",
       "      <td>7922</td>\n",
       "      <td>Pave</td>\n",
       "      <td>NaN</td>\n",
       "      <td>Reg</td>\n",
       "      <td>Lvl</td>\n",
       "      <td>...</td>\n",
       "      <td>0</td>\n",
       "      <td>0</td>\n",
       "      <td>NaN</td>\n",
       "      <td>NaN</td>\n",
       "      <td>NaN</td>\n",
       "      <td>0</td>\n",
       "      <td>1</td>\n",
       "      <td>2010</td>\n",
       "      <td>WD</td>\n",
       "      <td>109000</td>\n",
       "    </tr>\n",
       "    <tr>\n",
       "      <th>3</th>\n",
       "      <td>318</td>\n",
       "      <td>916386060</td>\n",
       "      <td>60</td>\n",
       "      <td>RL</td>\n",
       "      <td>73.0</td>\n",
       "      <td>9802</td>\n",
       "      <td>Pave</td>\n",
       "      <td>NaN</td>\n",
       "      <td>Reg</td>\n",
       "      <td>Lvl</td>\n",
       "      <td>...</td>\n",
       "      <td>0</td>\n",
       "      <td>0</td>\n",
       "      <td>NaN</td>\n",
       "      <td>NaN</td>\n",
       "      <td>NaN</td>\n",
       "      <td>0</td>\n",
       "      <td>4</td>\n",
       "      <td>2010</td>\n",
       "      <td>WD</td>\n",
       "      <td>174000</td>\n",
       "    </tr>\n",
       "    <tr>\n",
       "      <th>4</th>\n",
       "      <td>255</td>\n",
       "      <td>906425045</td>\n",
       "      <td>50</td>\n",
       "      <td>RL</td>\n",
       "      <td>82.0</td>\n",
       "      <td>14235</td>\n",
       "      <td>Pave</td>\n",
       "      <td>NaN</td>\n",
       "      <td>IR1</td>\n",
       "      <td>Lvl</td>\n",
       "      <td>...</td>\n",
       "      <td>0</td>\n",
       "      <td>0</td>\n",
       "      <td>NaN</td>\n",
       "      <td>NaN</td>\n",
       "      <td>NaN</td>\n",
       "      <td>0</td>\n",
       "      <td>3</td>\n",
       "      <td>2010</td>\n",
       "      <td>WD</td>\n",
       "      <td>138500</td>\n",
       "    </tr>\n",
       "  </tbody>\n",
       "</table>\n",
       "<p>5 rows × 81 columns</p>\n",
       "</div>"
      ],
      "text/plain": [
       "    Id        PID  MS SubClass MS Zoning  Lot Frontage  Lot Area Street Alley  \\\n",
       "0  109  533352170           60        RL           NaN     13517   Pave   NaN   \n",
       "1  544  531379050           60        RL          43.0     11492   Pave   NaN   \n",
       "2  153  535304180           20        RL          68.0      7922   Pave   NaN   \n",
       "3  318  916386060           60        RL          73.0      9802   Pave   NaN   \n",
       "4  255  906425045           50        RL          82.0     14235   Pave   NaN   \n",
       "\n",
       "  Lot Shape Land Contour  ... Screen Porch Pool Area Pool QC Fence  \\\n",
       "0       IR1          Lvl  ...            0         0     NaN   NaN   \n",
       "1       IR1          Lvl  ...            0         0     NaN   NaN   \n",
       "2       Reg          Lvl  ...            0         0     NaN   NaN   \n",
       "3       Reg          Lvl  ...            0         0     NaN   NaN   \n",
       "4       IR1          Lvl  ...            0         0     NaN   NaN   \n",
       "\n",
       "  Misc Feature Misc Val Mo Sold Yr Sold  Sale Type  SalePrice  \n",
       "0          NaN        0       3    2010        WD      130500  \n",
       "1          NaN        0       4    2009        WD      220000  \n",
       "2          NaN        0       1    2010        WD      109000  \n",
       "3          NaN        0       4    2010        WD      174000  \n",
       "4          NaN        0       3    2010        WD      138500  \n",
       "\n",
       "[5 rows x 81 columns]"
      ]
     },
     "execution_count": 4,
     "metadata": {},
     "output_type": "execute_result"
    }
   ],
   "source": [
    "train.head()"
   ]
  },
  {
   "cell_type": "code",
   "execution_count": 5,
   "id": "fcf76427",
   "metadata": {},
   "outputs": [
    {
     "data": {
      "text/html": [
       "<div>\n",
       "<style scoped>\n",
       "    .dataframe tbody tr th:only-of-type {\n",
       "        vertical-align: middle;\n",
       "    }\n",
       "\n",
       "    .dataframe tbody tr th {\n",
       "        vertical-align: top;\n",
       "    }\n",
       "\n",
       "    .dataframe thead th {\n",
       "        text-align: right;\n",
       "    }\n",
       "</style>\n",
       "<table border=\"1\" class=\"dataframe\">\n",
       "  <thead>\n",
       "    <tr style=\"text-align: right;\">\n",
       "      <th></th>\n",
       "      <th>Id</th>\n",
       "      <th>PID</th>\n",
       "      <th>MS SubClass</th>\n",
       "      <th>MS Zoning</th>\n",
       "      <th>Lot Frontage</th>\n",
       "      <th>Lot Area</th>\n",
       "      <th>Street</th>\n",
       "      <th>Alley</th>\n",
       "      <th>Lot Shape</th>\n",
       "      <th>Land Contour</th>\n",
       "      <th>...</th>\n",
       "      <th>3Ssn Porch</th>\n",
       "      <th>Screen Porch</th>\n",
       "      <th>Pool Area</th>\n",
       "      <th>Pool QC</th>\n",
       "      <th>Fence</th>\n",
       "      <th>Misc Feature</th>\n",
       "      <th>Misc Val</th>\n",
       "      <th>Mo Sold</th>\n",
       "      <th>Yr Sold</th>\n",
       "      <th>Sale Type</th>\n",
       "    </tr>\n",
       "  </thead>\n",
       "  <tbody>\n",
       "    <tr>\n",
       "      <th>0</th>\n",
       "      <td>2658</td>\n",
       "      <td>902301120</td>\n",
       "      <td>190</td>\n",
       "      <td>RM</td>\n",
       "      <td>69.0</td>\n",
       "      <td>9142</td>\n",
       "      <td>Pave</td>\n",
       "      <td>Grvl</td>\n",
       "      <td>Reg</td>\n",
       "      <td>Lvl</td>\n",
       "      <td>...</td>\n",
       "      <td>0</td>\n",
       "      <td>0</td>\n",
       "      <td>0</td>\n",
       "      <td>NaN</td>\n",
       "      <td>NaN</td>\n",
       "      <td>NaN</td>\n",
       "      <td>0</td>\n",
       "      <td>4</td>\n",
       "      <td>2006</td>\n",
       "      <td>WD</td>\n",
       "    </tr>\n",
       "    <tr>\n",
       "      <th>1</th>\n",
       "      <td>2718</td>\n",
       "      <td>905108090</td>\n",
       "      <td>90</td>\n",
       "      <td>RL</td>\n",
       "      <td>NaN</td>\n",
       "      <td>9662</td>\n",
       "      <td>Pave</td>\n",
       "      <td>NaN</td>\n",
       "      <td>IR1</td>\n",
       "      <td>Lvl</td>\n",
       "      <td>...</td>\n",
       "      <td>0</td>\n",
       "      <td>0</td>\n",
       "      <td>0</td>\n",
       "      <td>NaN</td>\n",
       "      <td>NaN</td>\n",
       "      <td>NaN</td>\n",
       "      <td>0</td>\n",
       "      <td>8</td>\n",
       "      <td>2006</td>\n",
       "      <td>WD</td>\n",
       "    </tr>\n",
       "    <tr>\n",
       "      <th>2</th>\n",
       "      <td>2414</td>\n",
       "      <td>528218130</td>\n",
       "      <td>60</td>\n",
       "      <td>RL</td>\n",
       "      <td>58.0</td>\n",
       "      <td>17104</td>\n",
       "      <td>Pave</td>\n",
       "      <td>NaN</td>\n",
       "      <td>IR1</td>\n",
       "      <td>Lvl</td>\n",
       "      <td>...</td>\n",
       "      <td>0</td>\n",
       "      <td>0</td>\n",
       "      <td>0</td>\n",
       "      <td>NaN</td>\n",
       "      <td>NaN</td>\n",
       "      <td>NaN</td>\n",
       "      <td>0</td>\n",
       "      <td>9</td>\n",
       "      <td>2006</td>\n",
       "      <td>New</td>\n",
       "    </tr>\n",
       "    <tr>\n",
       "      <th>3</th>\n",
       "      <td>1989</td>\n",
       "      <td>902207150</td>\n",
       "      <td>30</td>\n",
       "      <td>RM</td>\n",
       "      <td>60.0</td>\n",
       "      <td>8520</td>\n",
       "      <td>Pave</td>\n",
       "      <td>NaN</td>\n",
       "      <td>Reg</td>\n",
       "      <td>Lvl</td>\n",
       "      <td>...</td>\n",
       "      <td>0</td>\n",
       "      <td>0</td>\n",
       "      <td>0</td>\n",
       "      <td>NaN</td>\n",
       "      <td>NaN</td>\n",
       "      <td>NaN</td>\n",
       "      <td>0</td>\n",
       "      <td>7</td>\n",
       "      <td>2007</td>\n",
       "      <td>WD</td>\n",
       "    </tr>\n",
       "    <tr>\n",
       "      <th>4</th>\n",
       "      <td>625</td>\n",
       "      <td>535105100</td>\n",
       "      <td>20</td>\n",
       "      <td>RL</td>\n",
       "      <td>NaN</td>\n",
       "      <td>9500</td>\n",
       "      <td>Pave</td>\n",
       "      <td>NaN</td>\n",
       "      <td>IR1</td>\n",
       "      <td>Lvl</td>\n",
       "      <td>...</td>\n",
       "      <td>0</td>\n",
       "      <td>185</td>\n",
       "      <td>0</td>\n",
       "      <td>NaN</td>\n",
       "      <td>NaN</td>\n",
       "      <td>NaN</td>\n",
       "      <td>0</td>\n",
       "      <td>7</td>\n",
       "      <td>2009</td>\n",
       "      <td>WD</td>\n",
       "    </tr>\n",
       "  </tbody>\n",
       "</table>\n",
       "<p>5 rows × 80 columns</p>\n",
       "</div>"
      ],
      "text/plain": [
       "     Id        PID  MS SubClass MS Zoning  Lot Frontage  Lot Area Street  \\\n",
       "0  2658  902301120          190        RM          69.0      9142   Pave   \n",
       "1  2718  905108090           90        RL           NaN      9662   Pave   \n",
       "2  2414  528218130           60        RL          58.0     17104   Pave   \n",
       "3  1989  902207150           30        RM          60.0      8520   Pave   \n",
       "4   625  535105100           20        RL           NaN      9500   Pave   \n",
       "\n",
       "  Alley Lot Shape Land Contour  ... 3Ssn Porch Screen Porch Pool Area Pool QC  \\\n",
       "0  Grvl       Reg          Lvl  ...          0            0         0     NaN   \n",
       "1   NaN       IR1          Lvl  ...          0            0         0     NaN   \n",
       "2   NaN       IR1          Lvl  ...          0            0         0     NaN   \n",
       "3   NaN       Reg          Lvl  ...          0            0         0     NaN   \n",
       "4   NaN       IR1          Lvl  ...          0          185         0     NaN   \n",
       "\n",
       "  Fence Misc Feature Misc Val Mo Sold  Yr Sold  Sale Type  \n",
       "0   NaN          NaN        0       4     2006        WD   \n",
       "1   NaN          NaN        0       8     2006        WD   \n",
       "2   NaN          NaN        0       9     2006        New  \n",
       "3   NaN          NaN        0       7     2007        WD   \n",
       "4   NaN          NaN        0       7     2009        WD   \n",
       "\n",
       "[5 rows x 80 columns]"
      ]
     },
     "execution_count": 5,
     "metadata": {},
     "output_type": "execute_result"
    }
   ],
   "source": [
    "test.head()"
   ]
  },
  {
   "cell_type": "markdown",
   "id": "2a101316",
   "metadata": {},
   "source": [
    "### Cleaning and EDA"
   ]
  },
  {
   "cell_type": "code",
   "execution_count": 6,
   "id": "c8d395fe",
   "metadata": {},
   "outputs": [],
   "source": [
    "# changing column names to be lowercase and snake case\n",
    "\n",
    "train.columns = train.columns.str.replace(' ','_')\n",
    "train.columns = train.columns.str.lower()\n",
    "\n",
    "test.columns = test.columns.str.replace(' ','_')\n",
    "test.columns = test.columns.str.lower()\n"
   ]
  },
  {
   "cell_type": "code",
   "execution_count": 7,
   "id": "c89c9695",
   "metadata": {},
   "outputs": [],
   "source": [
    "# columns without null values\n",
    "# coded this way so all the names were visible\n",
    "# commented out so it doesn't take up as much space in the notebook\n",
    "\n",
    "# train.columns[train.notna().any()].tolist()"
   ]
  },
  {
   "cell_type": "code",
   "execution_count": 8,
   "id": "24d8fe92",
   "metadata": {},
   "outputs": [
    {
     "data": {
      "text/plain": [
       "(2051, 39)"
      ]
     },
     "execution_count": 8,
     "metadata": {},
     "output_type": "execute_result"
    }
   ],
   "source": [
    "# new dataframe with only numerical data - to start exploring \n",
    "# regression with columns that are already numerical\n",
    "\n",
    "newdf = train.select_dtypes(include = np.number)\n",
    "newdf.shape"
   ]
  },
  {
   "cell_type": "code",
   "execution_count": 9,
   "id": "080b6801",
   "metadata": {},
   "outputs": [
    {
     "data": {
      "text/plain": [
       "lot_frontage      330\n",
       "garage_yr_blt     114\n",
       "mas_vnr_area       22\n",
       "bsmt_half_bath      2\n",
       "bsmt_full_bath      2\n",
       "bsmtfin_sf_1        1\n",
       "garage_cars         1\n",
       "garage_area         1\n",
       "total_bsmt_sf       1\n",
       "bsmt_unf_sf         1\n",
       "bsmtfin_sf_2        1\n",
       "kitchen_abvgr       0\n",
       "dtype: int64"
      ]
     },
     "execution_count": 9,
     "metadata": {},
     "output_type": "execute_result"
    }
   ],
   "source": [
    "# exploring which numerical columns had nulls\n",
    "newdf.isnull().sum().sort_values(ascending=False).head(12)"
   ]
  },
  {
   "cell_type": "markdown",
   "id": "9d90d005",
   "metadata": {},
   "source": [
    "Exploring relationships between columns that are already numerical. "
   ]
  },
  {
   "cell_type": "code",
   "execution_count": 10,
   "id": "d4cfbd81",
   "metadata": {
    "scrolled": false
   },
   "outputs": [
    {
     "data": {
      "image/png": "[encoded data removed]",
      "text/plain": [
       "<Figure size 432x720 with 2 Axes>"
      ]
     },
     "metadata": {
      "needs_background": "light"
     },
     "output_type": "display_data"
    }
   ],
   "source": [
    "plt.figure(figsize = (6, 10))\n",
    "sns.heatmap(newdf.corr()[['saleprice']].sort_values('saleprice'), \n",
    "            annot = True, cmap = 'coolwarm', vmin = -1, vmax = 1, linewidths = 0.3);"
   ]
  },
  {
   "cell_type": "code",
   "execution_count": 12,
   "id": "37253349",
   "metadata": {},
   "outputs": [
    {
     "data": {
      "image/png": "[encoded data removed]",
      "text/plain": [
       "<Figure size 432x288 with 1 Axes>"
      ]
     },
     "metadata": {
      "needs_background": "light"
     },
     "output_type": "display_data"
    }
   ],
   "source": [
    "# examining features \n",
    "plt.hist(train['saleprice'])\n",
    "plt.xlabel('saleprice');"
   ]
  },
  {
   "cell_type": "code",
   "execution_count": 27,
   "id": "ff022e4f",
   "metadata": {},
   "outputs": [
    {
     "data": {
      "image/png": "[encoded data removed]",
      "text/plain": [
       "<Figure size 432x288 with 1 Axes>"
      ]
     },
     "metadata": {
      "needs_background": "light"
     },
     "output_type": "display_data"
    }
   ],
   "source": [
    "x = train['overall_qual']\n",
    "y= train['saleprice']\n",
    "\n",
    "plt.scatter(x, y, alpha = 0.2, color = 'darkcyan')\n",
    "\n",
    "z = np.polyfit(x, y, 1)\n",
    "y_hat = np.poly1d(z)(x)\n",
    "\n",
    "plt.plot(x, y_hat, color = 'indigo', lw=1)\n",
    "\n",
    "plt.xlabel('Overall Quality', size=14)\n",
    "plt.ylabel('Sale Price ($)', size=14)\n",
    "plt.title('Price Increases as Overall Quality Increases', pad=8, size=16);"
   ]
  },
  {
   "cell_type": "markdown",
   "id": "babbe9e8",
   "metadata": {},
   "source": [
    "The distribution has a strong positive skew. It may be a future consideration to make the target log(saleprice) but that is likely outside the scope of the time I have on this project."
   ]
  },
  {
   "cell_type": "code",
   "execution_count": 12,
   "id": "33bece00",
   "metadata": {},
   "outputs": [
    {
     "data": {
      "text/html": [
       "<div>\n",
       "<style scoped>\n",
       "    .dataframe tbody tr th:only-of-type {\n",
       "        vertical-align: middle;\n",
       "    }\n",
       "\n",
       "    .dataframe tbody tr th {\n",
       "        vertical-align: top;\n",
       "    }\n",
       "\n",
       "    .dataframe thead th {\n",
       "        text-align: right;\n",
       "    }\n",
       "</style>\n",
       "<table border=\"1\" class=\"dataframe\">\n",
       "  <thead>\n",
       "    <tr style=\"text-align: right;\">\n",
       "      <th></th>\n",
       "      <th>id</th>\n",
       "      <th>pid</th>\n",
       "      <th>ms_subclass</th>\n",
       "      <th>ms_zoning</th>\n",
       "      <th>lot_frontage</th>\n",
       "      <th>lot_area</th>\n",
       "      <th>street</th>\n",
       "      <th>alley</th>\n",
       "      <th>lot_shape</th>\n",
       "      <th>land_contour</th>\n",
       "      <th>...</th>\n",
       "      <th>screen_porch</th>\n",
       "      <th>pool_area</th>\n",
       "      <th>pool_qc</th>\n",
       "      <th>fence</th>\n",
       "      <th>misc_feature</th>\n",
       "      <th>misc_val</th>\n",
       "      <th>mo_sold</th>\n",
       "      <th>yr_sold</th>\n",
       "      <th>sale_type</th>\n",
       "      <th>saleprice</th>\n",
       "    </tr>\n",
       "  </thead>\n",
       "  <tbody>\n",
       "    <tr>\n",
       "      <th>1327</th>\n",
       "      <td>1342</td>\n",
       "      <td>903230120</td>\n",
       "      <td>20</td>\n",
       "      <td>RM</td>\n",
       "      <td>99.0</td>\n",
       "      <td>5940</td>\n",
       "      <td>Pave</td>\n",
       "      <td>NaN</td>\n",
       "      <td>IR1</td>\n",
       "      <td>Lvl</td>\n",
       "      <td>...</td>\n",
       "      <td>0</td>\n",
       "      <td>0</td>\n",
       "      <td>NaN</td>\n",
       "      <td>MnPrv</td>\n",
       "      <td>NaN</td>\n",
       "      <td>0</td>\n",
       "      <td>4</td>\n",
       "      <td>2008</td>\n",
       "      <td>ConLD</td>\n",
       "      <td>79000</td>\n",
       "    </tr>\n",
       "  </tbody>\n",
       "</table>\n",
       "<p>1 rows × 81 columns</p>\n",
       "</div>"
      ],
      "text/plain": [
       "        id        pid  ms_subclass ms_zoning  lot_frontage  lot_area street  \\\n",
       "1327  1342  903230120           20        RM          99.0      5940   Pave   \n",
       "\n",
       "     alley lot_shape land_contour  ... screen_porch pool_area pool_qc  fence  \\\n",
       "1327   NaN       IR1          Lvl  ...            0         0     NaN  MnPrv   \n",
       "\n",
       "     misc_feature misc_val mo_sold yr_sold  sale_type  saleprice  \n",
       "1327          NaN        0       4    2008      ConLD      79000  \n",
       "\n",
       "[1 rows x 81 columns]"
      ]
     },
     "execution_count": 12,
     "metadata": {},
     "output_type": "execute_result"
    }
   ],
   "source": [
    "train[train['total_bsmt_sf'].isnull()]"
   ]
  },
  {
   "cell_type": "code",
   "execution_count": 13,
   "id": "bd126a0d",
   "metadata": {},
   "outputs": [
    {
     "data": {
      "text/html": [
       "<div>\n",
       "<style scoped>\n",
       "    .dataframe tbody tr th:only-of-type {\n",
       "        vertical-align: middle;\n",
       "    }\n",
       "\n",
       "    .dataframe tbody tr th {\n",
       "        vertical-align: top;\n",
       "    }\n",
       "\n",
       "    .dataframe thead th {\n",
       "        text-align: right;\n",
       "    }\n",
       "</style>\n",
       "<table border=\"1\" class=\"dataframe\">\n",
       "  <thead>\n",
       "    <tr style=\"text-align: right;\">\n",
       "      <th></th>\n",
       "      <th>id</th>\n",
       "      <th>pid</th>\n",
       "      <th>ms_subclass</th>\n",
       "      <th>ms_zoning</th>\n",
       "      <th>lot_frontage</th>\n",
       "      <th>lot_area</th>\n",
       "      <th>street</th>\n",
       "      <th>alley</th>\n",
       "      <th>lot_shape</th>\n",
       "      <th>land_contour</th>\n",
       "      <th>...</th>\n",
       "      <th>screen_porch</th>\n",
       "      <th>pool_area</th>\n",
       "      <th>pool_qc</th>\n",
       "      <th>fence</th>\n",
       "      <th>misc_feature</th>\n",
       "      <th>misc_val</th>\n",
       "      <th>mo_sold</th>\n",
       "      <th>yr_sold</th>\n",
       "      <th>sale_type</th>\n",
       "      <th>saleprice</th>\n",
       "    </tr>\n",
       "  </thead>\n",
       "  <tbody>\n",
       "    <tr>\n",
       "      <th>1712</th>\n",
       "      <td>2237</td>\n",
       "      <td>910201180</td>\n",
       "      <td>70</td>\n",
       "      <td>RM</td>\n",
       "      <td>50.0</td>\n",
       "      <td>9060</td>\n",
       "      <td>Pave</td>\n",
       "      <td>NaN</td>\n",
       "      <td>Reg</td>\n",
       "      <td>Lvl</td>\n",
       "      <td>...</td>\n",
       "      <td>0</td>\n",
       "      <td>0</td>\n",
       "      <td>NaN</td>\n",
       "      <td>MnPrv</td>\n",
       "      <td>NaN</td>\n",
       "      <td>0</td>\n",
       "      <td>3</td>\n",
       "      <td>2007</td>\n",
       "      <td>WD</td>\n",
       "      <td>150909</td>\n",
       "    </tr>\n",
       "  </tbody>\n",
       "</table>\n",
       "<p>1 rows × 81 columns</p>\n",
       "</div>"
      ],
      "text/plain": [
       "        id        pid  ms_subclass ms_zoning  lot_frontage  lot_area street  \\\n",
       "1712  2237  910201180           70        RM          50.0      9060   Pave   \n",
       "\n",
       "     alley lot_shape land_contour  ... screen_porch pool_area pool_qc  fence  \\\n",
       "1712   NaN       Reg          Lvl  ...            0         0     NaN  MnPrv   \n",
       "\n",
       "     misc_feature misc_val mo_sold yr_sold  sale_type  saleprice  \n",
       "1712          NaN        0       3    2007        WD      150909  \n",
       "\n",
       "[1 rows x 81 columns]"
      ]
     },
     "execution_count": 13,
     "metadata": {},
     "output_type": "execute_result"
    }
   ],
   "source": [
    "train[train['garage_area'].isnull()]"
   ]
  },
  {
   "cell_type": "code",
   "execution_count": 14,
   "id": "5438a830",
   "metadata": {},
   "outputs": [],
   "source": [
    "# going to drop the one row that has a null value in 'total_bsmt_sf'\n",
    "# and 'garage_area'\n",
    "\n",
    "train = train.dropna(subset=['total_bsmt_sf', 'garage_area'])"
   ]
  },
  {
   "cell_type": "code",
   "execution_count": 15,
   "id": "8f0961f6",
   "metadata": {},
   "outputs": [],
   "source": [
    "# turning 'central_air' into a dummy variable\n",
    "\n",
    "train['central_air'] = train['central_air'].map({'Y': 1, 'N': 0})\n",
    "test['central_air'] = test['central_air'].map({'Y': 1, 'N': 0})"
   ]
  },
  {
   "cell_type": "code",
   "execution_count": 16,
   "id": "b957338d",
   "metadata": {},
   "outputs": [],
   "source": [
    "# creating a column that adds together all the bathrooms\n",
    "\n",
    "train['all_baths'] = train['full_bath'] + train['half_bath'] + train['bsmt_half_bath'] + train['bsmt_full_bath']\n",
    "\n",
    "test['all_baths'] = test['full_bath'] + test['half_bath'] + test['bsmt_half_bath'] + test['bsmt_full_bath']\n"
   ]
  },
  {
   "cell_type": "code",
   "execution_count": 17,
   "id": "5fca2639",
   "metadata": {},
   "outputs": [
    {
     "data": {
      "text/plain": [
       "count      2049.000000\n",
       "mean      10067.712055\n",
       "std        6745.127386\n",
       "min        1300.000000\n",
       "25%        7500.000000\n",
       "50%        9434.000000\n",
       "75%       11515.000000\n",
       "max      159000.000000\n",
       "Name: lot_area, dtype: float64"
      ]
     },
     "execution_count": 17,
     "metadata": {},
     "output_type": "execute_result"
    }
   ],
   "source": [
    "# examining huge lots - above 75th percentile or outliers?\n",
    "# possible dummy column?\n",
    "\n",
    "train.lot_area.describe()"
   ]
  },
  {
   "cell_type": "code",
   "execution_count": 18,
   "id": "c8380d4d",
   "metadata": {},
   "outputs": [
    {
     "data": {
      "text/plain": [
       "count      2049.000000\n",
       "mean     181534.626159\n",
       "std       79262.113026\n",
       "min       12789.000000\n",
       "25%      129850.000000\n",
       "50%      162500.000000\n",
       "75%      214000.000000\n",
       "max      611657.000000\n",
       "Name: saleprice, dtype: float64"
      ]
     },
     "execution_count": 18,
     "metadata": {},
     "output_type": "execute_result"
    }
   ],
   "source": [
    "# examining price of all homes to compare (in below cell) to prices of houses with \n",
    "# huge lots \n",
    "\n",
    "train.saleprice.describe()"
   ]
  },
  {
   "cell_type": "code",
   "execution_count": 19,
   "id": "d019c1ce",
   "metadata": {},
   "outputs": [
    {
     "data": {
      "text/plain": [
       "count        84.000000\n",
       "mean     229487.178571\n",
       "std       99017.037385\n",
       "min       57625.000000\n",
       "25%      159375.000000\n",
       "50%      215000.000000\n",
       "75%      271242.500000\n",
       "max      591587.000000\n",
       "Name: saleprice, dtype: float64"
      ]
     },
     "execution_count": 19,
     "metadata": {},
     "output_type": "execute_result"
    }
   ],
   "source": [
    "# determining the cutoff for outliers and looking at stats for homes above the top outlier range\n",
    "\n",
    "outlier_upper_la = np.quantile(train['lot_area'], 0.75) + (1.5 * (np.quantile(train['lot_area'], 0.75) - np.quantile(train['lot_area'], 0.25)))\n",
    "outlier_upper_la\n",
    "train[train['lot_area'] > outlier_upper_la]['saleprice'].describe()"
   ]
  },
  {
   "cell_type": "code",
   "execution_count": 20,
   "id": "655d5b06",
   "metadata": {},
   "outputs": [],
   "source": [
    "train['huge_lot'] = [1 if value > outlier_upper_la else 0 for value in train['lot_area']]\n",
    "test['huge_lot'] = [1 if value > outlier_upper_la else 0 for value in test['lot_area']]"
   ]
  },
  {
   "cell_type": "markdown",
   "id": "7e4c969e",
   "metadata": {},
   "source": [
    "### Considering US Recession"
   ]
  },
  {
   "cell_type": "code",
   "execution_count": 21,
   "id": "40022eeb",
   "metadata": {},
   "outputs": [
    {
     "data": {
      "text/plain": [
       "array([2010, 2009, 2006, 2007, 2008])"
      ]
     },
     "execution_count": 21,
     "metadata": {},
     "output_type": "execute_result"
    }
   ],
   "source": [
    "train.yr_sold.unique()"
   ]
  },
  {
   "cell_type": "code",
   "execution_count": 22,
   "id": "b8bd70cb",
   "metadata": {},
   "outputs": [],
   "source": [
    "# consider that 2007-2009 was a huge recession....maybe account for that with variable?\n",
    "train['recession'] = [1 if value in [2007, 2008] else 0 for value in train['yr_sold']]\n",
    "test['recession'] = [1 if value in [2007, 2008] else 0 for value in test['yr_sold']]"
   ]
  },
  {
   "cell_type": "markdown",
   "id": "c93e3cca",
   "metadata": {},
   "source": [
    "### Accounting for Neighborhood"
   ]
  },
  {
   "cell_type": "markdown",
   "id": "f6eccc70",
   "metadata": {},
   "source": [
    "In the real estate world, we've all heard the saying \"Location, location, location!\" "
   ]
  },
  {
   "cell_type": "code",
   "execution_count": 34,
   "id": "6198695a",
   "metadata": {},
   "outputs": [
    {
     "data": {
      "image/png": "[encoded data removed]",
      "text/plain": [
       "<Figure size 1152x720 with 1 Axes>"
      ]
     },
     "metadata": {
      "needs_background": "light"
     },
     "output_type": "display_data"
    }
   ],
   "source": [
    "plt.figure(figsize = (16, 10))\n",
    "sns.stripplot(x='neighborhood', y='saleprice', data=train, jitter=0.05)\n",
    "plt.xticks(rotation=45);"
   ]
  },
  {
   "cell_type": "code",
   "execution_count": 23,
   "id": "e12370cb",
   "metadata": {},
   "outputs": [
    {
     "data": {
      "text/plain": [
       "neighborhood\n",
       "Blmngtn    2.004177\n",
       "Blueste    1.445667\n",
       "BrDale     1.033711\n",
       "BrkSide    1.276630\n",
       "ClearCr    2.174901\n",
       "CollgCr    2.024972\n",
       "Crawfor    2.059012\n",
       "Edwards    1.304935\n",
       "Gilbert    1.892284\n",
       "Greens     1.886667\n",
       "GrnHill    2.800000\n",
       "IDOTRR     1.003707\n",
       "Landmrk    1.370000\n",
       "MeadowV    1.002312\n",
       "Mitchel    1.676567\n",
       "NAmes      1.459058\n",
       "NPkVill    1.404765\n",
       "NWAmes     1.946190\n",
       "NoRidge    3.162941\n",
       "NridgHt    3.228314\n",
       "OldTown    1.252763\n",
       "SWISU      1.347589\n",
       "Sawyer     1.371819\n",
       "SawyerW    1.877602\n",
       "Somerst    2.271839\n",
       "StoneBr    3.296757\n",
       "Timber     2.410514\n",
       "Veenker    2.535706\n",
       "Name: saleprice, dtype: float64"
      ]
     },
     "execution_count": 23,
     "metadata": {},
     "output_type": "execute_result"
    }
   ],
   "source": [
    "# weighting the neighborhood - creating a new column with scaled mean\n",
    "# got the idea from someone else's work on this data set\n",
    "# who I connected with on LinkedIn https://github.com/scaress21/ames_housing\n",
    "# mostly decided to do this after Riley reminded us through a different lesson \n",
    "# that generally people pull 'comps' on the 5 closest houses to you when \n",
    "# you're trying to appraise your home\n",
    "\n",
    "neighborhood_scl = (train.groupby('neighborhood')['saleprice'].mean()) / 100000\n",
    "neighborhood_scl"
   ]
  },
  {
   "cell_type": "code",
   "execution_count": 24,
   "id": "1308c2a4",
   "metadata": {},
   "outputs": [],
   "source": [
    "neighborhoods = train['neighborhood'].unique().tolist()\n",
    "neighborhoods.sort()"
   ]
  },
  {
   "cell_type": "code",
   "execution_count": 25,
   "id": "ab08e97b",
   "metadata": {},
   "outputs": [],
   "source": [
    "# dictionary comprehension to create a way to map a new column with what \n",
    "# I'm calling the neighborhood scalar\n",
    "neighborhood_dict = {neighborhood: scalar for neighborhood, scalar in zip(neighborhoods, neighborhood_scl)}"
   ]
  },
  {
   "cell_type": "code",
   "execution_count": 26,
   "id": "bf0242a9",
   "metadata": {},
   "outputs": [],
   "source": [
    "train['neighborhood_scl'] = train['neighborhood'].apply(lambda x: neighborhood_dict[x])"
   ]
  },
  {
   "cell_type": "code",
   "execution_count": 27,
   "id": "eeaf06f3",
   "metadata": {},
   "outputs": [],
   "source": [
    "test['neighborhood_scl'] = test['neighborhood'].apply(lambda x: neighborhood_dict[x])"
   ]
  },
  {
   "cell_type": "markdown",
   "id": "e0911201",
   "metadata": {},
   "source": [
    "### Attempting Polynomial Features"
   ]
  },
  {
   "cell_type": "markdown",
   "id": "189d6482",
   "metadata": {},
   "source": [
    "Once I plotted the heatmap, I wasn't thrilled with the correlation. The highest ones were more highly correlated on their own. I ended up commenting out most of the code but kept the imputed values to run initial models."
   ]
  },
  {
   "cell_type": "code",
   "execution_count": 28,
   "id": "e5398b54",
   "metadata": {},
   "outputs": [],
   "source": [
    "# before I impute anything, I want to save a copy of the data as is, so I can revert back to it if needed\n",
    "\n",
    "train.to_csv('../datasets/train_clean1.csv', index=False)\n",
    "test.to_csv('../datasets/test_clean1.csv', index=False)"
   ]
  },
  {
   "cell_type": "code",
   "execution_count": 29,
   "id": "d9b5829c",
   "metadata": {},
   "outputs": [],
   "source": [
    "# poly = PolynomialFeatures(include_bias = False)"
   ]
  },
  {
   "cell_type": "code",
   "execution_count": 30,
   "id": "12e9d363",
   "metadata": {},
   "outputs": [],
   "source": [
    "# imputing values to look at polynomial features correlation\n",
    "\n",
    "train['lot_frontage'].fillna(value=train['lot_frontage'].mean(), inplace=True)\n",
    "train['garage_yr_blt'].fillna(value=train['garage_yr_blt'].mean(), inplace=True)\n",
    "train['mas_vnr_area'].fillna(value=train['mas_vnr_area'].mean(), inplace=True)\n",
    "train['bsmtfin_sf_1'].fillna(value=train['bsmtfin_sf_1'].mean(), inplace=True)\n",
    "train['total_bsmt_sf'].fillna(value=train['total_bsmt_sf'].mean(), inplace=True)\n",
    "train['bsmt_unf_sf'].fillna(value=train['bsmt_unf_sf'].mean(), inplace=True)\n",
    "train['bsmtfin_sf_2'].fillna(value=train['bsmtfin_sf_2'].mean(), inplace=True)\n",
    "train['all_baths'].fillna(value=train['all_baths'].mean(), inplace=True)\n",
    "\n",
    "test['lot_frontage'].fillna(value=test['lot_frontage'].mean(), inplace=True)\n",
    "test['garage_yr_blt'].fillna(value=test['garage_yr_blt'].mean(), inplace=True)\n",
    "test['mas_vnr_area'].fillna(value=test['mas_vnr_area'].mean(), inplace=True)\n",
    "test['bsmtfin_sf_1'].fillna(value=test['bsmtfin_sf_1'].mean(), inplace=True)\n",
    "test['total_bsmt_sf'].fillna(value=test['total_bsmt_sf'].mean(), inplace=True)\n",
    "test['bsmt_unf_sf'].fillna(value=test['bsmt_unf_sf'].mean(), inplace=True)\n",
    "test['bsmtfin_sf_2'].fillna(value=test['bsmtfin_sf_2'].mean(), inplace=True)\n",
    "test['all_baths'].fillna(value=test['all_baths'].mean(), inplace=True)\n"
   ]
  },
  {
   "cell_type": "markdown",
   "id": "2393115f",
   "metadata": {},
   "source": [
    "If I had more time, I would consider trying to look at each of these features individually and decide if it would be better to impute with the mean or the median (or in some other way - possibly with another feature with which it is correlated). If deciding between mean and median I would look to the skew of the feature. The more symmetric the data, the more I would lean toward choosing the mean. The more skewed, the more I would lean toward the median. "
   ]
  },
  {
   "cell_type": "code",
   "execution_count": 31,
   "id": "5aa85486",
   "metadata": {},
   "outputs": [],
   "source": [
    "# use numeric columns but append with dummies/engineered columns I have created\n",
    "# newdf_columns_list = newdf.columns.to_list()\n",
    "\n",
    "# list_to_add = ['huge_lot', 'all_baths', 'central_air']\n",
    "# newdf_columns_list.extend(list_to_add)\n",
    "# list_to_remove = ['bsmt_full_bath', 'bsmt_half_bath', 'full_bath', 'half_bath', 'garage_cars',\n",
    "#                     'enclosed_porch', '3ssn_porch']\n",
    "# newdf_columns_list = [item for item in newdf_columns_list if item not in list_to_remove]\n"
   ]
  },
  {
   "cell_type": "code",
   "execution_count": 32,
   "id": "b06a7b9c",
   "metadata": {},
   "outputs": [],
   "source": [
    "# poly.fit(train[newdf_columns_list])\n",
    "# X_poly = poly.transform(train[newdf_columns_list])"
   ]
  },
  {
   "cell_type": "code",
   "execution_count": 33,
   "id": "c5cf4e32",
   "metadata": {},
   "outputs": [],
   "source": [
    "# explore_poly = pd.DataFrame(X_poly, columns = poly.get_feature_names())"
   ]
  },
  {
   "cell_type": "code",
   "execution_count": 34,
   "id": "588f83e0",
   "metadata": {},
   "outputs": [],
   "source": [
    "# explore_poly['saleprice'] = train['saleprice']\n",
    "# explore_poly.head()"
   ]
  },
  {
   "cell_type": "code",
   "execution_count": 35,
   "id": "a50bf4f1",
   "metadata": {
    "scrolled": false
   },
   "outputs": [],
   "source": [
    "# created an insanely huge heatmap that I didn't want to keep scrolling past. \n",
    "# ultimately the top correlations did not seem to be helpful\n",
    "\n",
    "# plt.figure(figsize = (5, 200))\n",
    "# sns.heatmap(explore_poly.corr()[['saleprice']].sort_values('saleprice'), \n",
    "#             annot = True, cmap = 'coolwarm', vmin = -1, vmax = 1, linewidths = 0.3)"
   ]
  },
  {
   "cell_type": "markdown",
   "id": "06b6250c",
   "metadata": {},
   "source": [
    "Note to self that engineered features are: `'all_baths'`, `'central_air'`, `'huge_lot'`, and `'recession'`"
   ]
  },
  {
   "cell_type": "markdown",
   "id": "3a845e0b",
   "metadata": {},
   "source": [
    "### Features Iterations (First Attempt)"
   ]
  },
  {
   "cell_type": "markdown",
   "id": "4dcc3692",
   "metadata": {},
   "source": [
    "Chose best of 8 initial models."
   ]
  },
  {
   "cell_type": "code",
   "execution_count": 36,
   "id": "36c0894b",
   "metadata": {},
   "outputs": [],
   "source": [
    "features = ['gr_liv_area', 'garage_area', 'total_bsmt_sf', '1st_flr_sf', 'year_built', \n",
    "           'year_remod/add', 'full_bath', 'fireplaces', 'central_air', \n",
    "            'overall_qual', 'huge_lot', 'recession', 'mas_vnr_area', 'neighborhood_scl']\n"
   ]
  },
  {
   "cell_type": "code",
   "execution_count": 37,
   "id": "715edc4f",
   "metadata": {},
   "outputs": [
    {
     "name": "stdout",
     "output_type": "stream",
     "text": [
      "r^2 for train: 0.840424905007071\n",
      "r^2 for val (test): 0.7778938832844783\n",
      "cross val score: 0.7239186892029869\n",
      "rmse: 36993.1374822548\n"
     ]
    }
   ],
   "source": [
    "X = train[features]\n",
    "y = train['saleprice']\n",
    "\n",
    "X_train, X_val, y_train, y_val = train_test_split(X, y, \n",
    "                                                    random_state = 13, \n",
    "                                                    shuffle = True)\n",
    "\n",
    "lr = LinearRegression()\n",
    "\n",
    "lr.fit(X_train, y_train)\n",
    "\n",
    "pred = lr.predict(X_val)\n",
    "\n",
    "print(f'r^2 for train: {lr.score(X_train, y_train)}')\n",
    "print(f'r^2 for val (test): {lr.score(X_val, y_val)}')\n",
    "print(f'cross val score: {cross_val_score(lr, X_val, y_val).mean()}') \n",
    "print(f'rmse: {np.sqrt(metrics.mean_squared_error(y_val, pred))}')"
   ]
  },
  {
   "cell_type": "markdown",
   "id": "37748e84",
   "metadata": {},
   "source": [
    "We can see from the scores that the model is drastically overfit and has high variance. "
   ]
  },
  {
   "cell_type": "markdown",
   "id": "333d9eda",
   "metadata": {},
   "source": [
    "## KFold Cross Validation"
   ]
  },
  {
   "cell_type": "code",
   "execution_count": 44,
   "id": "dc38b354",
   "metadata": {},
   "outputs": [
    {
     "data": {
      "text/html": [
       "<div>\n",
       "<style scoped>\n",
       "    .dataframe tbody tr th:only-of-type {\n",
       "        vertical-align: middle;\n",
       "    }\n",
       "\n",
       "    .dataframe tbody tr th {\n",
       "        vertical-align: top;\n",
       "    }\n",
       "\n",
       "    .dataframe thead th {\n",
       "        text-align: right;\n",
       "    }\n",
       "</style>\n",
       "<table border=\"1\" class=\"dataframe\">\n",
       "  <thead>\n",
       "    <tr style=\"text-align: right;\">\n",
       "      <th></th>\n",
       "      <th>train_r2</th>\n",
       "      <th>test_r2</th>\n",
       "      <th>train_rmse</th>\n",
       "      <th>test_rmse</th>\n",
       "    </tr>\n",
       "  </thead>\n",
       "  <tbody>\n",
       "    <tr>\n",
       "      <th>0</th>\n",
       "      <td>0.841896</td>\n",
       "      <td>0.754504</td>\n",
       "      <td>-31643.237194</td>\n",
       "      <td>-38473.351984</td>\n",
       "    </tr>\n",
       "    <tr>\n",
       "      <th>1</th>\n",
       "      <td>0.816794</td>\n",
       "      <td>0.861999</td>\n",
       "      <td>-33483.588953</td>\n",
       "      <td>-30895.703918</td>\n",
       "    </tr>\n",
       "    <tr>\n",
       "      <th>2</th>\n",
       "      <td>0.833695</td>\n",
       "      <td>0.793082</td>\n",
       "      <td>-32602.571354</td>\n",
       "      <td>-34692.696171</td>\n",
       "    </tr>\n",
       "    <tr>\n",
       "      <th>3</th>\n",
       "      <td>0.827788</td>\n",
       "      <td>0.823438</td>\n",
       "      <td>-32489.990021</td>\n",
       "      <td>-34836.988121</td>\n",
       "    </tr>\n",
       "    <tr>\n",
       "      <th>4</th>\n",
       "      <td>0.822419</td>\n",
       "      <td>0.846795</td>\n",
       "      <td>-33765.667565</td>\n",
       "      <td>-29585.857492</td>\n",
       "    </tr>\n",
       "  </tbody>\n",
       "</table>\n",
       "</div>"
      ],
      "text/plain": [
       "   train_r2   test_r2    train_rmse     test_rmse\n",
       "0  0.841896  0.754504 -31643.237194 -38473.351984\n",
       "1  0.816794  0.861999 -33483.588953 -30895.703918\n",
       "2  0.833695  0.793082 -32602.571354 -34692.696171\n",
       "3  0.827788  0.823438 -32489.990021 -34836.988121\n",
       "4  0.822419  0.846795 -33765.667565 -29585.857492"
      ]
     },
     "execution_count": 44,
     "metadata": {},
     "output_type": "execute_result"
    }
   ],
   "source": [
    "cv_results = cross_validate(lr, X, y, cv=KFold(shuffle=True, \n",
    "                                               random_state=13), \n",
    "                            scoring=['neg_root_mean_squared_error', 'r2'], \n",
    "                            n_jobs=-1, return_train_score=True, \n",
    "                            return_estimator=True)\n",
    "\n",
    "results = pd.DataFrame(cv_results)\n",
    "results.rename({'test_neg_root_mean_squared_error': 'test_rmse', \n",
    "                'train_neg_root_mean_squared_error': 'train_rmse'}, \n",
    "                axis=1, inplace=True)\n",
    "results[['train_r2', 'test_r2', \n",
    "         'train_rmse', 'test_rmse']]\n",
    "            "
   ]
  },
  {
   "cell_type": "code",
   "execution_count": 38,
   "id": "856d4af4",
   "metadata": {},
   "outputs": [],
   "source": [
    "residuals = y_val - pred"
   ]
  },
  {
   "cell_type": "code",
   "execution_count": 45,
   "id": "e4a84aac",
   "metadata": {},
   "outputs": [
    {
     "data": {
      "image/png": "[encoded data removed]",
      "text/plain": [
       "<Figure size 432x288 with 1 Axes>"
      ]
     },
     "metadata": {
      "needs_background": "light"
     },
     "output_type": "display_data"
    }
   ],
   "source": [
    "# exploring residuals\n",
    "\n",
    "plt.hist(residuals)\n",
    "plt.xlabel('residuals');\n",
    "\n",
    "# negative skew\n",
    "# trying to get more information on where my model is\n",
    "# performing poorly (huge negative residual(s))"
   ]
  },
  {
   "cell_type": "markdown",
   "id": "3737f08d",
   "metadata": {},
   "source": [
    "The majority of the data is centered around 0 (good!). However, the residuals have high variance (we don't want our sale price estimates to be off by $100,000.)\n",
    "\n",
    "There are one or more super big negative residuals. We may want to explore that data at some point. If I had more time on this project, I would identify which values were the big negative residuals and consider if not including them in the dataset would improve my model. I may also simply for possible errors in that (or those) rows. "
   ]
  },
  {
   "cell_type": "markdown",
   "id": "00b915f8",
   "metadata": {},
   "source": [
    "Exporting CSV for kaggle submission:"
   ]
  },
  {
   "cell_type": "code",
   "execution_count": 40,
   "id": "d83fea00",
   "metadata": {},
   "outputs": [],
   "source": [
    "X_test = test[features]\n",
    "\n",
    "test['SalePrice'] = lr.predict(X_test)\n",
    "\n",
    "export = test[['id', 'SalePrice']].copy()\n",
    "export.rename(columns={'id':'Id'}, inplace=True)\n",
    "\n",
    "# replace \"REPLACE\" with the attempt number to save as new csv in attempts folder\n",
    "# export.to_csv('../attempts/attempt_REPLACE.csv', index = False)"
   ]
  },
  {
   "cell_type": "markdown",
   "id": "df2f2506",
   "metadata": {},
   "source": [
    "## Exporting DataSets"
   ]
  },
  {
   "cell_type": "code",
   "execution_count": 41,
   "id": "d91b2467",
   "metadata": {},
   "outputs": [],
   "source": [
    "# exporting current train and test datasets so I can begin \n",
    "# a new notebook, using my knowledge of Ridge and/or Lasso\n",
    "\n",
    "train.to_csv('../datasets/train_imputed1.csv', index=False)\n",
    "test.to_csv('../datasets/test_imputed1.csv', index=False)"
   ]
  },
  {
   "cell_type": "code",
   "execution_count": null,
   "id": "6c638521",
   "metadata": {},
   "outputs": [],
   "source": []
  }
 ],
 "metadata": {
  "kernelspec": {
   "display_name": "Python 3",
   "language": "python",
   "name": "python3"
  },
  "language_info": {
   "codemirror_mode": {
    "name": "ipython",
    "version": 3
   },
   "file_extension": ".py",
   "mimetype": "text/x-python",
   "name": "python",
   "nbconvert_exporter": "python",
   "pygments_lexer": "ipython3",
   "version": "3.8.8"
  }
 },
 "nbformat": 4,
 "nbformat_minor": 5
}
